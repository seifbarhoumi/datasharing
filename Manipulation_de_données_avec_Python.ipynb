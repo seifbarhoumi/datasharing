{
  "nbformat": 4,
  "nbformat_minor": 0,
  "metadata": {
    "colab": {
      "name": "Manipulation de données avec Python.ipynb",
      "version": "0.3.2",
      "provenance": [],
      "collapsed_sections": [],
      "include_colab_link": true
    },
    "kernelspec": {
      "name": "python3",
      "display_name": "Python 3"
    }
  },
  "cells": [
    {
      "cell_type": "markdown",
      "metadata": {
        "id": "view-in-github",
        "colab_type": "text"
      },
      "source": [
        "<a href=\"https://colab.research.google.com/github/seifbarhoumi/datasharing/blob/master/Manipulation_de_donn%C3%A9es_avec_Python.ipynb\" target=\"_parent\"><img src=\"https://colab.research.google.com/assets/colab-badge.svg\" alt=\"Open In Colab\"/></a>"
      ]
    },
    {
      "metadata": {
        "id": "jmw9jaaXmfIj",
        "colab_type": "text"
      },
      "cell_type": "markdown",
      "source": [
        " <h1 align=\"center\" > <font color=\"blue\"> OneWealthPlace  </font>  </h1> \n",
        "<br>\n",
        "\n",
        " <h2 align=\"center\"> <font color=\"blue\"> R & D  - Manipulation de données pour débutant </font>  </h2> \n",
        "<br> \n",
        "\n",
        "<h3 align=\"center\"> <font color=\"blue\" >Avril, 2019 </font>  </h3>\n",
        "\n",
        "<br>\n",
        "<br>\n",
        "<br>"
      ]
    },
    {
      "metadata": {
        "id": "F_5DEOgAmd5l",
        "colab_type": "text"
      },
      "cell_type": "markdown",
      "source": [
        " <h1 align=\"center\">  <font color=\"blue\"> Introduction </font>   </h1> \n",
        "<br>\n",
        "\n",
        "\n",
        "\n",
        "<font  size=4> \n",
        "  \n",
        "  <ul>\n",
        "  <li>Ceci est un **test guidé** avec des étapes très simples de manipulation de données</li> <br>\n",
        "    \n",
        "  <li>Pour chaque question, **un exemple vous est d'abord donné**. Il est important de lire et de comprendre l'exemple. Ensuite, vous devrez **écrire un code similaire** à celui de l'exemple **pour répondre à la question posée**</li> <br>\n",
        "    \n",
        "    \n",
        "  <li>A chaque fois que vous finissez d'écrire votre code, **cliquer sur le button play** (a gauche de chaque cellule pour exécuter) votre résultat </li> <br>\n",
        "    \n",
        "      <li>**Tout est enregistrer automatiquement**. Pour finir le test, il vous suffit juste de fermer votre navigateur </li> <br>\n",
        "    \n",
        "</ul>\n",
        "  \n",
        "  **Bonne programmation!**\n",
        "</font> \n",
        "\n",
        "<br>\n",
        "<br>\n",
        "<br>"
      ]
    },
    {
      "metadata": {
        "id": "eMll4l034MbY",
        "colab_type": "code",
        "outputId": "5677cb45-4f34-4502-9e34-0ee52a710a45",
        "colab": {
          "base_uri": "https://localhost:8080/",
          "height": 51
        }
      },
      "cell_type": "code",
      "source": [
        "from sklearn.model_selection import train_test_split\n",
        "\n",
        "\n",
        "\n",
        "import pandas as pd\n",
        "\n",
        "# Code to read csv file into colaboratory:\n",
        "!pip install -U -q PyDrive\n",
        "from pydrive.auth import GoogleAuth\n",
        "from pydrive.drive import GoogleDrive\n",
        "from google.colab import auth\n",
        "from oauth2client.client import GoogleCredentials\n",
        "\n",
        "\n",
        "auth.authenticate_user()\n",
        "gauth = GoogleAuth()\n",
        "gauth.credentials = GoogleCredentials.get_application_default()\n",
        "drive = GoogleDrive(gauth)\n",
        "\n",
        "downloaded = drive.CreateFile({'id':'1SaOOa8Hsupmk23nvS_OLAJ2ot8mjqhiN'}) # replace the id with id of file you want to access\n",
        "downloaded.GetContentFile('train.csv') "
      ],
      "execution_count": 1,
      "outputs": [
        {
          "output_type": "stream",
          "text": [
            "\u001b[?25l\r\u001b[K    1% |▎                               | 10kB 20.4MB/s eta 0:00:01\r\u001b[K    2% |▋                               | 20kB 3.4MB/s eta 0:00:01\r\u001b[K    3% |█                               | 30kB 4.8MB/s eta 0:00:01\r\u001b[K    4% |█▎                              | 40kB 3.0MB/s eta 0:00:01\r\u001b[K    5% |█▋                              | 51kB 3.7MB/s eta 0:00:01\r\u001b[K    6% |██                              | 61kB 4.4MB/s eta 0:00:01\r\u001b[K    7% |██▎                             | 71kB 5.0MB/s eta 0:00:01\r\u001b[K    8% |██▋                             | 81kB 5.7MB/s eta 0:00:01\r\u001b[K    9% |███                             | 92kB 6.3MB/s eta 0:00:01\r\u001b[K    10% |███▎                            | 102kB 4.8MB/s eta 0:00:01\r\u001b[K    11% |███▋                            | 112kB 4.9MB/s eta 0:00:01\r\u001b[K    12% |████                            | 122kB 6.5MB/s eta 0:00:01\r\u001b[K    13% |████▎                           | 133kB 6.5MB/s eta 0:00:01\r\u001b[K    14% |████▋                           | 143kB 11.7MB/s eta 0:00:01\r\u001b[K    15% |█████                           | 153kB 11.8MB/s eta 0:00:01\r\u001b[K    16% |█████▎                          | 163kB 11.8MB/s eta 0:00:01\r\u001b[K    17% |█████▋                          | 174kB 11.9MB/s eta 0:00:01\r\u001b[K    18% |██████                          | 184kB 11.9MB/s eta 0:00:01\r\u001b[K    19% |██████▎                         | 194kB 12.0MB/s eta 0:00:01\r\u001b[K    20% |██████▋                         | 204kB 41.2MB/s eta 0:00:01\r\u001b[K    21% |███████                         | 215kB 15.0MB/s eta 0:00:01\r\u001b[K    22% |███████▎                        | 225kB 14.9MB/s eta 0:00:01\r\u001b[K    23% |███████▋                        | 235kB 14.9MB/s eta 0:00:01\r\u001b[K    24% |████████                        | 245kB 14.8MB/s eta 0:00:01\r\u001b[K    25% |████████▎                       | 256kB 14.8MB/s eta 0:00:01\r\u001b[K    26% |████████▋                       | 266kB 14.2MB/s eta 0:00:01\r\u001b[K    27% |█████████                       | 276kB 14.4MB/s eta 0:00:01\r\u001b[K    29% |█████████▎                      | 286kB 14.4MB/s eta 0:00:01\r\u001b[K    30% |█████████▋                      | 296kB 14.4MB/s eta 0:00:01\r\u001b[K    31% |██████████                      | 307kB 15.1MB/s eta 0:00:01\r\u001b[K    32% |██████████▎                     | 317kB 45.2MB/s eta 0:00:01\r\u001b[K    33% |██████████▋                     | 327kB 46.2MB/s eta 0:00:01\r\u001b[K    34% |███████████                     | 337kB 47.0MB/s eta 0:00:01\r\u001b[K    35% |███████████▎                    | 348kB 42.3MB/s eta 0:00:01\r\u001b[K    36% |███████████▋                    | 358kB 40.9MB/s eta 0:00:01\r\u001b[K    37% |████████████                    | 368kB 45.7MB/s eta 0:00:01\r\u001b[K    38% |████████████▎                   | 378kB 44.9MB/s eta 0:00:01\r\u001b[K    39% |████████████▋                   | 389kB 44.0MB/s eta 0:00:01\r\u001b[K    40% |█████████████                   | 399kB 19.9MB/s eta 0:00:01\r\u001b[K    41% |█████████████▎                  | 409kB 18.3MB/s eta 0:00:01\r\u001b[K    42% |█████████████▋                  | 419kB 18.2MB/s eta 0:00:01\r\u001b[K    43% |██████████████                  | 430kB 18.3MB/s eta 0:00:01\r\u001b[K    44% |██████████████▎                 | 440kB 18.2MB/s eta 0:00:01\r\u001b[K    45% |██████████████▋                 | 450kB 18.5MB/s eta 0:00:01\r\u001b[K    46% |███████████████                 | 460kB 18.7MB/s eta 0:00:01\r\u001b[K    47% |███████████████▎                | 471kB 18.9MB/s eta 0:00:01\r\u001b[K    48% |███████████████▋                | 481kB 19.2MB/s eta 0:00:01\r\u001b[K    49% |████████████████                | 491kB 19.3MB/s eta 0:00:01\r\u001b[K    50% |████████████████▎               | 501kB 41.3MB/s eta 0:00:01\r\u001b[K    51% |████████████████▋               | 512kB 46.3MB/s eta 0:00:01\r\u001b[K    52% |█████████████████               | 522kB 47.4MB/s eta 0:00:01\r\u001b[K    53% |█████████████████▎              | 532kB 48.8MB/s eta 0:00:01\r\u001b[K    54% |█████████████████▋              | 542kB 49.6MB/s eta 0:00:01\r\u001b[K    55% |██████████████████              | 552kB 57.8MB/s eta 0:00:01\r\u001b[K    57% |██████████████████▎             | 563kB 59.3MB/s eta 0:00:01\r\u001b[K    58% |██████████████████▋             | 573kB 58.7MB/s eta 0:00:01\r\u001b[K    59% |███████████████████             | 583kB 58.7MB/s eta 0:00:01\r\u001b[K    60% |███████████████████▎            | 593kB 58.5MB/s eta 0:00:01\r\u001b[K    61% |███████████████████▋            | 604kB 57.4MB/s eta 0:00:01\r\u001b[K    62% |████████████████████            | 614kB 63.2MB/s eta 0:00:01\r\u001b[K    63% |████████████████████▎           | 624kB 62.9MB/s eta 0:00:01\r\u001b[K    64% |████████████████████▋           | 634kB 62.6MB/s eta 0:00:01\r\u001b[K    65% |█████████████████████           | 645kB 26.7MB/s eta 0:00:01\r\u001b[K    66% |█████████████████████▎          | 655kB 26.0MB/s eta 0:00:01\r\u001b[K    67% |█████████████████████▋          | 665kB 22.2MB/s eta 0:00:01\r\u001b[K    68% |██████████████████████          | 675kB 22.0MB/s eta 0:00:01\r\u001b[K    69% |██████████████████████▎         | 686kB 21.8MB/s eta 0:00:01\r\u001b[K    70% |██████████████████████▋         | 696kB 21.9MB/s eta 0:00:01\r\u001b[K    71% |███████████████████████         | 706kB 22.0MB/s eta 0:00:01\r\u001b[K    72% |███████████████████████▎        | 716kB 22.1MB/s eta 0:00:01\r\u001b[K    73% |███████████████████████▋        | 727kB 22.0MB/s eta 0:00:01\r\u001b[K    74% |████████████████████████        | 737kB 21.8MB/s eta 0:00:01\r\u001b[K    75% |████████████████████████▎       | 747kB 41.2MB/s eta 0:00:01\r\u001b[K    76% |████████████████████████▋       | 757kB 42.5MB/s eta 0:00:01\r\u001b[K    77% |████████████████████████▉       | 768kB 59.2MB/s eta 0:00:01\r\u001b[K    78% |█████████████████████████▏      | 778kB 60.5MB/s eta 0:00:01\r\u001b[K    79% |█████████████████████████▌      | 788kB 60.5MB/s eta 0:00:01\r\u001b[K    80% |█████████████████████████▉      | 798kB 60.5MB/s eta 0:00:01\r\u001b[K    81% |██████████████████████████▏     | 808kB 59.9MB/s eta 0:00:01\r\u001b[K    82% |██████████████████████████▌     | 819kB 59.6MB/s eta 0:00:01\r\u001b[K    83% |██████████████████████████▉     | 829kB 61.5MB/s eta 0:00:01\r\u001b[K    85% |███████████████████████████▏    | 839kB 61.6MB/s eta 0:00:01\r\u001b[K    86% |███████████████████████████▌    | 849kB 60.5MB/s eta 0:00:01\r\u001b[K    87% |███████████████████████████▉    | 860kB 51.3MB/s eta 0:00:01\r\u001b[K    88% |████████████████████████████▏   | 870kB 50.5MB/s eta 0:00:01\r\u001b[K    89% |████████████████████████████▌   | 880kB 51.4MB/s eta 0:00:01\r\u001b[K    90% |████████████████████████████▉   | 890kB 52.3MB/s eta 0:00:01\r\u001b[K    91% |█████████████████████████████▏  | 901kB 52.5MB/s eta 0:00:01\r\u001b[K    92% |█████████████████████████████▌  | 911kB 53.0MB/s eta 0:00:01\r\u001b[K    93% |█████████████████████████████▉  | 921kB 53.3MB/s eta 0:00:01\r\u001b[K    94% |██████████████████████████████▏ | 931kB 53.3MB/s eta 0:00:01\r\u001b[K    95% |██████████████████████████████▌ | 942kB 53.8MB/s eta 0:00:01\r\u001b[K    96% |██████████████████████████████▉ | 952kB 53.6MB/s eta 0:00:01\r\u001b[K    97% |███████████████████████████████▏| 962kB 64.3MB/s eta 0:00:01\r\u001b[K    98% |███████████████████████████████▌| 972kB 65.1MB/s eta 0:00:01\r\u001b[K    99% |███████████████████████████████▉| 983kB 64.0MB/s eta 0:00:01\r\u001b[K    100% |████████████████████████████████| 993kB 20.2MB/s \n",
            "\u001b[?25h  Building wheel for PyDrive (setup.py) ... \u001b[?25ldone\n",
            "\u001b[?25h"
          ],
          "name": "stdout"
        }
      ]
    },
    {
      "metadata": {
        "id": "sE0CMFnB47z-",
        "colab_type": "code",
        "colab": {}
      },
      "cell_type": "code",
      "source": [
        "import pandas as pd\n",
        "train = pd.read_csv('train.csv')\n",
        "train.to_csv(\"data.csv\", sep=\";\", index=False)\n",
        "\n",
        "test,_= train_test_split(train,test_size= 300)\n",
        "\n",
        "test.to_csv(\"test.csv\", index=False)"
      ],
      "execution_count": 0,
      "outputs": []
    },
    {
      "metadata": {
        "id": "i0PzQcZs3OWZ",
        "colab_type": "text"
      },
      "cell_type": "markdown",
      "source": [
        "# Nouvelle section"
      ]
    },
    {
      "metadata": {
        "id": "qckBHsql8cQv",
        "colab_type": "code",
        "colab": {
          "base_uri": "https://localhost:8080/",
          "height": 204
        },
        "outputId": "170a263f-f7c2-4806-e143-d91639235fe1"
      },
      "cell_type": "code",
      "source": [
        "test.head()"
      ],
      "execution_count": 3,
      "outputs": [
        {
          "output_type": "execute_result",
          "data": {
            "text/html": [
              "<div>\n",
              "<style scoped>\n",
              "    .dataframe tbody tr th:only-of-type {\n",
              "        vertical-align: middle;\n",
              "    }\n",
              "\n",
              "    .dataframe tbody tr th {\n",
              "        vertical-align: top;\n",
              "    }\n",
              "\n",
              "    .dataframe thead th {\n",
              "        text-align: right;\n",
              "    }\n",
              "</style>\n",
              "<table border=\"1\" class=\"dataframe\">\n",
              "  <thead>\n",
              "    <tr style=\"text-align: right;\">\n",
              "      <th></th>\n",
              "      <th>PassengerId</th>\n",
              "      <th>Survived</th>\n",
              "      <th>Pclass</th>\n",
              "      <th>Name</th>\n",
              "      <th>Sex</th>\n",
              "      <th>Age</th>\n",
              "      <th>SibSp</th>\n",
              "      <th>Parch</th>\n",
              "      <th>Ticket</th>\n",
              "      <th>Fare</th>\n",
              "      <th>Cabin</th>\n",
              "      <th>Embarked</th>\n",
              "    </tr>\n",
              "  </thead>\n",
              "  <tbody>\n",
              "    <tr>\n",
              "      <th>720</th>\n",
              "      <td>721</td>\n",
              "      <td>1</td>\n",
              "      <td>2</td>\n",
              "      <td>Harper, Miss. Annie Jessie \"Nina\"</td>\n",
              "      <td>female</td>\n",
              "      <td>6.0</td>\n",
              "      <td>0</td>\n",
              "      <td>1</td>\n",
              "      <td>248727</td>\n",
              "      <td>33.0000</td>\n",
              "      <td>NaN</td>\n",
              "      <td>S</td>\n",
              "    </tr>\n",
              "    <tr>\n",
              "      <th>112</th>\n",
              "      <td>113</td>\n",
              "      <td>0</td>\n",
              "      <td>3</td>\n",
              "      <td>Barton, Mr. David John</td>\n",
              "      <td>male</td>\n",
              "      <td>22.0</td>\n",
              "      <td>0</td>\n",
              "      <td>0</td>\n",
              "      <td>324669</td>\n",
              "      <td>8.0500</td>\n",
              "      <td>NaN</td>\n",
              "      <td>S</td>\n",
              "    </tr>\n",
              "    <tr>\n",
              "      <th>107</th>\n",
              "      <td>108</td>\n",
              "      <td>1</td>\n",
              "      <td>3</td>\n",
              "      <td>Moss, Mr. Albert Johan</td>\n",
              "      <td>male</td>\n",
              "      <td>NaN</td>\n",
              "      <td>0</td>\n",
              "      <td>0</td>\n",
              "      <td>312991</td>\n",
              "      <td>7.7750</td>\n",
              "      <td>NaN</td>\n",
              "      <td>S</td>\n",
              "    </tr>\n",
              "    <tr>\n",
              "      <th>64</th>\n",
              "      <td>65</td>\n",
              "      <td>0</td>\n",
              "      <td>1</td>\n",
              "      <td>Stewart, Mr. Albert A</td>\n",
              "      <td>male</td>\n",
              "      <td>NaN</td>\n",
              "      <td>0</td>\n",
              "      <td>0</td>\n",
              "      <td>PC 17605</td>\n",
              "      <td>27.7208</td>\n",
              "      <td>NaN</td>\n",
              "      <td>C</td>\n",
              "    </tr>\n",
              "    <tr>\n",
              "      <th>244</th>\n",
              "      <td>245</td>\n",
              "      <td>0</td>\n",
              "      <td>3</td>\n",
              "      <td>Attalah, Mr. Sleiman</td>\n",
              "      <td>male</td>\n",
              "      <td>30.0</td>\n",
              "      <td>0</td>\n",
              "      <td>0</td>\n",
              "      <td>2694</td>\n",
              "      <td>7.2250</td>\n",
              "      <td>NaN</td>\n",
              "      <td>C</td>\n",
              "    </tr>\n",
              "  </tbody>\n",
              "</table>\n",
              "</div>"
            ],
            "text/plain": [
              "     PassengerId  Survived  Pclass                               Name     Sex  \\\n",
              "720          721         1       2  Harper, Miss. Annie Jessie \"Nina\"  female   \n",
              "112          113         0       3             Barton, Mr. David John    male   \n",
              "107          108         1       3             Moss, Mr. Albert Johan    male   \n",
              "64            65         0       1              Stewart, Mr. Albert A    male   \n",
              "244          245         0       3               Attalah, Mr. Sleiman    male   \n",
              "\n",
              "      Age  SibSp  Parch    Ticket     Fare Cabin Embarked  \n",
              "720   6.0      0      1    248727  33.0000   NaN        S  \n",
              "112  22.0      0      0    324669   8.0500   NaN        S  \n",
              "107   NaN      0      0    312991   7.7750   NaN        S  \n",
              "64    NaN      0      0  PC 17605  27.7208   NaN        C  \n",
              "244  30.0      0      0      2694   7.2250   NaN        C  "
            ]
          },
          "metadata": {
            "tags": []
          },
          "execution_count": 3
        }
      ]
    },
    {
      "metadata": {
        "id": "XH2V7sCIxZWD",
        "colab_type": "text"
      },
      "cell_type": "markdown",
      "source": [
        " <h3 align=\"left\">  <font color=\"blue\"> Question N°1 </font>   </h3> \n",
        "<br>"
      ]
    },
    {
      "metadata": {
        "id": "PoxuUdyEx1xc",
        "colab_type": "text"
      },
      "cell_type": "markdown",
      "source": [
        "L'analyse de données consiste à écrire des programmes ou à appliquer functions statistiques pour comprendre les données.\n",
        "\n",
        "Pour faire cela, on utilise très généralement des fonctions déjà programmées appélées des library ou package. \n",
        "\n",
        "**L'objectif de cette question est d'importer les packages/libraries qui seront utilisés.**\n",
        "\n",
        "\n",
        "\n",
        "\n"
      ]
    },
    {
      "metadata": {
        "id": "S4PGQOq_xoAg",
        "colab_type": "text"
      },
      "cell_type": "markdown",
      "source": [
        "**Example**: pour importer le packages **math** Il suffit **import math**. N'oubliez pas de cliquer sur play pour exécuter le script."
      ]
    },
    {
      "metadata": {
        "id": "qFdoJqeA0Dgf",
        "colab_type": "code",
        "colab": {}
      },
      "cell_type": "code",
      "source": [
        "import math"
      ],
      "execution_count": 0,
      "outputs": []
    },
    {
      "metadata": {
        "id": "VLGRm7C70bj-",
        "colab_type": "text"
      },
      "cell_type": "markdown",
      "source": [
        "**Exercice:** Dans la cellule dessous, écrire le code pour importer le package **pandas**. N'oubliez pas de cliquer sur play pour exécuter votre script"
      ]
    },
    {
      "metadata": {
        "id": "v6mC0NC3lpzX",
        "colab_type": "code",
        "colab": {}
      },
      "cell_type": "code",
      "source": [
        "import pandas as pd "
      ],
      "execution_count": 0,
      "outputs": []
    },
    {
      "metadata": {
        "id": "G1ZMra6F05YY",
        "colab_type": "text"
      },
      "cell_type": "markdown",
      "source": [
        "**Exercice:** Dans la  cellule dessous, écrire le code pour  **numpy**. N'oubliez pas de cliquer sur play pour exécuter votre script"
      ]
    },
    {
      "metadata": {
        "id": "xWfYJwsP2fqi",
        "colab_type": "code",
        "colab": {}
      },
      "cell_type": "code",
      "source": [
        "import numpy as np "
      ],
      "execution_count": 0,
      "outputs": []
    },
    {
      "metadata": {
        "id": "mTYb9j8K1ftf",
        "colab_type": "text"
      },
      "cell_type": "markdown",
      "source": [
        " <h3 align=\"left\">  <font color=\"blue\"> Question N°2 </font>   </h3> \n",
        "<br>\n",
        "**Dans cette section, nous allons lire des données depuis un fichier .csv**. Pour cela, nous allons utilisez la librairie pandas que nous avons importer dans la question précédente.\n",
        "\n",
        "Les données allons utilisé les données de Titanic. Il s'agit d'un fichier qui contient tous les passengers qui étaient dans le bateau Titanic avec une description des passagers et une variable qui indique si le passenger est mort ou pas."
      ]
    },
    {
      "metadata": {
        "id": "OCZY6wJG2q_B",
        "colab_type": "text"
      },
      "cell_type": "markdown",
      "source": [
        "**Example**: Pour importer le fichier qui s'appelle **test.csv**, il suffit juste d'écrie. Après avoir exécuter ce code, la variable test contient tous les données qui étaient dans le fichier test.csv. L ' option **sep** permet de dire que le séparateur de colonne est une virgule **\"\" , \"\"**. "
      ]
    },
    {
      "metadata": {
        "id": "aozL0YlF3nnY",
        "colab_type": "code",
        "outputId": "b147452f-021c-4c70-d85f-07c94a16a79b",
        "colab": {
          "base_uri": "https://localhost:8080/",
          "height": 142
        }
      },
      "cell_type": "code",
      "source": [
        "test= pd.read_csv(\"test.csv\", sep=\",\")\n",
        "\n",
        "test.head(3)"
      ],
      "execution_count": 8,
      "outputs": [
        {
          "output_type": "execute_result",
          "data": {
            "text/html": [
              "<div>\n",
              "<style scoped>\n",
              "    .dataframe tbody tr th:only-of-type {\n",
              "        vertical-align: middle;\n",
              "    }\n",
              "\n",
              "    .dataframe tbody tr th {\n",
              "        vertical-align: top;\n",
              "    }\n",
              "\n",
              "    .dataframe thead th {\n",
              "        text-align: right;\n",
              "    }\n",
              "</style>\n",
              "<table border=\"1\" class=\"dataframe\">\n",
              "  <thead>\n",
              "    <tr style=\"text-align: right;\">\n",
              "      <th></th>\n",
              "      <th>PassengerId</th>\n",
              "      <th>Survived</th>\n",
              "      <th>Pclass</th>\n",
              "      <th>Name</th>\n",
              "      <th>Sex</th>\n",
              "      <th>Age</th>\n",
              "      <th>SibSp</th>\n",
              "      <th>Parch</th>\n",
              "      <th>Ticket</th>\n",
              "      <th>Fare</th>\n",
              "      <th>Cabin</th>\n",
              "      <th>Embarked</th>\n",
              "    </tr>\n",
              "  </thead>\n",
              "  <tbody>\n",
              "    <tr>\n",
              "      <th>0</th>\n",
              "      <td>721</td>\n",
              "      <td>1</td>\n",
              "      <td>2</td>\n",
              "      <td>Harper, Miss. Annie Jessie \"Nina\"</td>\n",
              "      <td>female</td>\n",
              "      <td>6.0</td>\n",
              "      <td>0</td>\n",
              "      <td>1</td>\n",
              "      <td>248727</td>\n",
              "      <td>33.000</td>\n",
              "      <td>NaN</td>\n",
              "      <td>S</td>\n",
              "    </tr>\n",
              "    <tr>\n",
              "      <th>1</th>\n",
              "      <td>113</td>\n",
              "      <td>0</td>\n",
              "      <td>3</td>\n",
              "      <td>Barton, Mr. David John</td>\n",
              "      <td>male</td>\n",
              "      <td>22.0</td>\n",
              "      <td>0</td>\n",
              "      <td>0</td>\n",
              "      <td>324669</td>\n",
              "      <td>8.050</td>\n",
              "      <td>NaN</td>\n",
              "      <td>S</td>\n",
              "    </tr>\n",
              "    <tr>\n",
              "      <th>2</th>\n",
              "      <td>108</td>\n",
              "      <td>1</td>\n",
              "      <td>3</td>\n",
              "      <td>Moss, Mr. Albert Johan</td>\n",
              "      <td>male</td>\n",
              "      <td>NaN</td>\n",
              "      <td>0</td>\n",
              "      <td>0</td>\n",
              "      <td>312991</td>\n",
              "      <td>7.775</td>\n",
              "      <td>NaN</td>\n",
              "      <td>S</td>\n",
              "    </tr>\n",
              "  </tbody>\n",
              "</table>\n",
              "</div>"
            ],
            "text/plain": [
              "   PassengerId  Survived  Pclass                               Name     Sex  \\\n",
              "0          721         1       2  Harper, Miss. Annie Jessie \"Nina\"  female   \n",
              "1          113         0       3             Barton, Mr. David John    male   \n",
              "2          108         1       3             Moss, Mr. Albert Johan    male   \n",
              "\n",
              "    Age  SibSp  Parch  Ticket    Fare Cabin Embarked  \n",
              "0   6.0      0      1  248727  33.000   NaN        S  \n",
              "1  22.0      0      0  324669   8.050   NaN        S  \n",
              "2   NaN      0      0  312991   7.775   NaN        S  "
            ]
          },
          "metadata": {
            "tags": []
          },
          "execution_count": 8
        }
      ]
    },
    {
      "metadata": {
        "id": "cjFBW_Kr4aVu",
        "colab_type": "text"
      },
      "cell_type": "markdown",
      "source": [
        "**Exercice:** Importer le fichier qui s'appelle **train.csv**. N'oubliez pas de cliquer sur play pour exécuter votre script. Il faut l'importer dans une variable qui s'appelle **train**. Le séparateur de colonne est le un point-virgule **\"\" ; \"\"**"
      ]
    },
    {
      "metadata": {
        "id": "FD0jyBdV4ZUr",
        "colab_type": "code",
        "colab": {
          "base_uri": "https://localhost:8080/",
          "height": 142
        },
        "outputId": "97a86b34-e4c9-4b59-8a9c-56c2ef1a998f"
      },
      "cell_type": "code",
      "source": [
        "train= pd.read_csv(\"train.csv\", sep=\",\")\n",
        "\n",
        "train.tail(3)"
      ],
      "execution_count": 24,
      "outputs": [
        {
          "output_type": "execute_result",
          "data": {
            "text/html": [
              "<div>\n",
              "<style scoped>\n",
              "    .dataframe tbody tr th:only-of-type {\n",
              "        vertical-align: middle;\n",
              "    }\n",
              "\n",
              "    .dataframe tbody tr th {\n",
              "        vertical-align: top;\n",
              "    }\n",
              "\n",
              "    .dataframe thead th {\n",
              "        text-align: right;\n",
              "    }\n",
              "</style>\n",
              "<table border=\"1\" class=\"dataframe\">\n",
              "  <thead>\n",
              "    <tr style=\"text-align: right;\">\n",
              "      <th></th>\n",
              "      <th>PassengerId</th>\n",
              "      <th>Survived</th>\n",
              "      <th>Pclass</th>\n",
              "      <th>Name</th>\n",
              "      <th>Sex</th>\n",
              "      <th>Age</th>\n",
              "      <th>SibSp</th>\n",
              "      <th>Parch</th>\n",
              "      <th>Ticket</th>\n",
              "      <th>Fare</th>\n",
              "      <th>Cabin</th>\n",
              "      <th>Embarked</th>\n",
              "    </tr>\n",
              "  </thead>\n",
              "  <tbody>\n",
              "    <tr>\n",
              "      <th>888</th>\n",
              "      <td>889</td>\n",
              "      <td>0</td>\n",
              "      <td>3</td>\n",
              "      <td>Johnston, Miss. Catherine Helen \"Carrie\"</td>\n",
              "      <td>female</td>\n",
              "      <td>NaN</td>\n",
              "      <td>1</td>\n",
              "      <td>2</td>\n",
              "      <td>W./C. 6607</td>\n",
              "      <td>23.45</td>\n",
              "      <td>NaN</td>\n",
              "      <td>S</td>\n",
              "    </tr>\n",
              "    <tr>\n",
              "      <th>889</th>\n",
              "      <td>890</td>\n",
              "      <td>1</td>\n",
              "      <td>1</td>\n",
              "      <td>Behr, Mr. Karl Howell</td>\n",
              "      <td>male</td>\n",
              "      <td>26.0</td>\n",
              "      <td>0</td>\n",
              "      <td>0</td>\n",
              "      <td>111369</td>\n",
              "      <td>30.00</td>\n",
              "      <td>C148</td>\n",
              "      <td>C</td>\n",
              "    </tr>\n",
              "    <tr>\n",
              "      <th>890</th>\n",
              "      <td>891</td>\n",
              "      <td>0</td>\n",
              "      <td>3</td>\n",
              "      <td>Dooley, Mr. Patrick</td>\n",
              "      <td>male</td>\n",
              "      <td>32.0</td>\n",
              "      <td>0</td>\n",
              "      <td>0</td>\n",
              "      <td>370376</td>\n",
              "      <td>7.75</td>\n",
              "      <td>NaN</td>\n",
              "      <td>Q</td>\n",
              "    </tr>\n",
              "  </tbody>\n",
              "</table>\n",
              "</div>"
            ],
            "text/plain": [
              "     PassengerId  Survived  Pclass                                      Name  \\\n",
              "888          889         0       3  Johnston, Miss. Catherine Helen \"Carrie\"   \n",
              "889          890         1       1                     Behr, Mr. Karl Howell   \n",
              "890          891         0       3                       Dooley, Mr. Patrick   \n",
              "\n",
              "        Sex   Age  SibSp  Parch      Ticket   Fare Cabin Embarked  \n",
              "888  female   NaN      1      2  W./C. 6607  23.45   NaN        S  \n",
              "889    male  26.0      0      0      111369  30.00  C148        C  \n",
              "890    male  32.0      0      0      370376   7.75   NaN        Q  "
            ]
          },
          "metadata": {
            "tags": []
          },
          "execution_count": 24
        }
      ]
    },
    {
      "metadata": {
        "id": "EE-iRFL-64QT",
        "colab_type": "text"
      },
      "cell_type": "markdown",
      "source": [
        " <h3 align=\"left\">  <font color=\"blue\"> Question N°3 </font>   </h3> \n",
        "<br>\n",
        "Une fois les données importées, on peut décrire le contenu du fichier avec la méthode \".describe\". Cette méthode afficher un ensemble de statistiques sur les variables continues de la base.\n",
        "\n",
        "\n",
        "**Exemple:**"
      ]
    },
    {
      "metadata": {
        "id": "xk8r8FT6lqAb",
        "colab_type": "code",
        "outputId": "f8413fd1-e56a-4ab3-e46b-b96199c1d599",
        "colab": {
          "base_uri": "https://localhost:8080/",
          "height": 297
        }
      },
      "cell_type": "code",
      "source": [
        "test.describe()"
      ],
      "execution_count": 10,
      "outputs": [
        {
          "output_type": "execute_result",
          "data": {
            "text/html": [
              "<div>\n",
              "<style scoped>\n",
              "    .dataframe tbody tr th:only-of-type {\n",
              "        vertical-align: middle;\n",
              "    }\n",
              "\n",
              "    .dataframe tbody tr th {\n",
              "        vertical-align: top;\n",
              "    }\n",
              "\n",
              "    .dataframe thead th {\n",
              "        text-align: right;\n",
              "    }\n",
              "</style>\n",
              "<table border=\"1\" class=\"dataframe\">\n",
              "  <thead>\n",
              "    <tr style=\"text-align: right;\">\n",
              "      <th></th>\n",
              "      <th>PassengerId</th>\n",
              "      <th>Survived</th>\n",
              "      <th>Pclass</th>\n",
              "      <th>Age</th>\n",
              "      <th>SibSp</th>\n",
              "      <th>Parch</th>\n",
              "      <th>Fare</th>\n",
              "    </tr>\n",
              "  </thead>\n",
              "  <tbody>\n",
              "    <tr>\n",
              "      <th>count</th>\n",
              "      <td>591.000000</td>\n",
              "      <td>591.000000</td>\n",
              "      <td>591.000000</td>\n",
              "      <td>482.000000</td>\n",
              "      <td>591.000000</td>\n",
              "      <td>591.000000</td>\n",
              "      <td>591.000000</td>\n",
              "    </tr>\n",
              "    <tr>\n",
              "      <th>mean</th>\n",
              "      <td>441.835871</td>\n",
              "      <td>0.385787</td>\n",
              "      <td>2.311337</td>\n",
              "      <td>29.403880</td>\n",
              "      <td>0.554992</td>\n",
              "      <td>0.390863</td>\n",
              "      <td>31.712224</td>\n",
              "    </tr>\n",
              "    <tr>\n",
              "      <th>std</th>\n",
              "      <td>258.952600</td>\n",
              "      <td>0.487193</td>\n",
              "      <td>0.832307</td>\n",
              "      <td>14.871469</td>\n",
              "      <td>1.161503</td>\n",
              "      <td>0.824118</td>\n",
              "      <td>47.411476</td>\n",
              "    </tr>\n",
              "    <tr>\n",
              "      <th>min</th>\n",
              "      <td>1.000000</td>\n",
              "      <td>0.000000</td>\n",
              "      <td>1.000000</td>\n",
              "      <td>0.420000</td>\n",
              "      <td>0.000000</td>\n",
              "      <td>0.000000</td>\n",
              "      <td>0.000000</td>\n",
              "    </tr>\n",
              "    <tr>\n",
              "      <th>25%</th>\n",
              "      <td>213.500000</td>\n",
              "      <td>0.000000</td>\n",
              "      <td>2.000000</td>\n",
              "      <td>21.000000</td>\n",
              "      <td>0.000000</td>\n",
              "      <td>0.000000</td>\n",
              "      <td>7.925000</td>\n",
              "    </tr>\n",
              "    <tr>\n",
              "      <th>50%</th>\n",
              "      <td>443.000000</td>\n",
              "      <td>0.000000</td>\n",
              "      <td>3.000000</td>\n",
              "      <td>28.000000</td>\n",
              "      <td>0.000000</td>\n",
              "      <td>0.000000</td>\n",
              "      <td>14.500000</td>\n",
              "    </tr>\n",
              "    <tr>\n",
              "      <th>75%</th>\n",
              "      <td>667.000000</td>\n",
              "      <td>1.000000</td>\n",
              "      <td>3.000000</td>\n",
              "      <td>38.000000</td>\n",
              "      <td>1.000000</td>\n",
              "      <td>0.000000</td>\n",
              "      <td>31.275000</td>\n",
              "    </tr>\n",
              "    <tr>\n",
              "      <th>max</th>\n",
              "      <td>890.000000</td>\n",
              "      <td>1.000000</td>\n",
              "      <td>3.000000</td>\n",
              "      <td>74.000000</td>\n",
              "      <td>8.000000</td>\n",
              "      <td>5.000000</td>\n",
              "      <td>512.329200</td>\n",
              "    </tr>\n",
              "  </tbody>\n",
              "</table>\n",
              "</div>"
            ],
            "text/plain": [
              "       PassengerId    Survived      Pclass         Age       SibSp  \\\n",
              "count   591.000000  591.000000  591.000000  482.000000  591.000000   \n",
              "mean    441.835871    0.385787    2.311337   29.403880    0.554992   \n",
              "std     258.952600    0.487193    0.832307   14.871469    1.161503   \n",
              "min       1.000000    0.000000    1.000000    0.420000    0.000000   \n",
              "25%     213.500000    0.000000    2.000000   21.000000    0.000000   \n",
              "50%     443.000000    0.000000    3.000000   28.000000    0.000000   \n",
              "75%     667.000000    1.000000    3.000000   38.000000    1.000000   \n",
              "max     890.000000    1.000000    3.000000   74.000000    8.000000   \n",
              "\n",
              "            Parch        Fare  \n",
              "count  591.000000  591.000000  \n",
              "mean     0.390863   31.712224  \n",
              "std      0.824118   47.411476  \n",
              "min      0.000000    0.000000  \n",
              "25%      0.000000    7.925000  \n",
              "50%      0.000000   14.500000  \n",
              "75%      0.000000   31.275000  \n",
              "max      5.000000  512.329200  "
            ]
          },
          "metadata": {
            "tags": []
          },
          "execution_count": 10
        }
      ]
    },
    {
      "metadata": {
        "id": "Wc1ysdot75gu",
        "colab_type": "text"
      },
      "cell_type": "markdown",
      "source": [
        "**Exercice:**  Décrire le contenu de votre base de données  **train** que vous avez importer précedemment."
      ]
    },
    {
      "metadata": {
        "id": "6rbfUUwflqEK",
        "colab_type": "code",
        "outputId": "efc8c0bd-ea96-41e4-f6a1-8df4b7bf4c20",
        "colab": {
          "base_uri": "https://localhost:8080/",
          "height": 297
        }
      },
      "cell_type": "code",
      "source": [
        "train.describe()"
      ],
      "execution_count": 11,
      "outputs": [
        {
          "output_type": "execute_result",
          "data": {
            "text/html": [
              "<div>\n",
              "<style scoped>\n",
              "    .dataframe tbody tr th:only-of-type {\n",
              "        vertical-align: middle;\n",
              "    }\n",
              "\n",
              "    .dataframe tbody tr th {\n",
              "        vertical-align: top;\n",
              "    }\n",
              "\n",
              "    .dataframe thead th {\n",
              "        text-align: right;\n",
              "    }\n",
              "</style>\n",
              "<table border=\"1\" class=\"dataframe\">\n",
              "  <thead>\n",
              "    <tr style=\"text-align: right;\">\n",
              "      <th></th>\n",
              "      <th>PassengerId</th>\n",
              "      <th>Survived</th>\n",
              "      <th>Pclass</th>\n",
              "      <th>Age</th>\n",
              "      <th>SibSp</th>\n",
              "      <th>Parch</th>\n",
              "      <th>Fare</th>\n",
              "    </tr>\n",
              "  </thead>\n",
              "  <tbody>\n",
              "    <tr>\n",
              "      <th>count</th>\n",
              "      <td>891.000000</td>\n",
              "      <td>891.000000</td>\n",
              "      <td>891.000000</td>\n",
              "      <td>714.000000</td>\n",
              "      <td>891.000000</td>\n",
              "      <td>891.000000</td>\n",
              "      <td>891.000000</td>\n",
              "    </tr>\n",
              "    <tr>\n",
              "      <th>mean</th>\n",
              "      <td>446.000000</td>\n",
              "      <td>0.383838</td>\n",
              "      <td>2.308642</td>\n",
              "      <td>29.699118</td>\n",
              "      <td>0.523008</td>\n",
              "      <td>0.381594</td>\n",
              "      <td>32.204208</td>\n",
              "    </tr>\n",
              "    <tr>\n",
              "      <th>std</th>\n",
              "      <td>257.353842</td>\n",
              "      <td>0.486592</td>\n",
              "      <td>0.836071</td>\n",
              "      <td>14.526497</td>\n",
              "      <td>1.102743</td>\n",
              "      <td>0.806057</td>\n",
              "      <td>49.693429</td>\n",
              "    </tr>\n",
              "    <tr>\n",
              "      <th>min</th>\n",
              "      <td>1.000000</td>\n",
              "      <td>0.000000</td>\n",
              "      <td>1.000000</td>\n",
              "      <td>0.420000</td>\n",
              "      <td>0.000000</td>\n",
              "      <td>0.000000</td>\n",
              "      <td>0.000000</td>\n",
              "    </tr>\n",
              "    <tr>\n",
              "      <th>25%</th>\n",
              "      <td>223.500000</td>\n",
              "      <td>0.000000</td>\n",
              "      <td>2.000000</td>\n",
              "      <td>20.125000</td>\n",
              "      <td>0.000000</td>\n",
              "      <td>0.000000</td>\n",
              "      <td>7.910400</td>\n",
              "    </tr>\n",
              "    <tr>\n",
              "      <th>50%</th>\n",
              "      <td>446.000000</td>\n",
              "      <td>0.000000</td>\n",
              "      <td>3.000000</td>\n",
              "      <td>28.000000</td>\n",
              "      <td>0.000000</td>\n",
              "      <td>0.000000</td>\n",
              "      <td>14.454200</td>\n",
              "    </tr>\n",
              "    <tr>\n",
              "      <th>75%</th>\n",
              "      <td>668.500000</td>\n",
              "      <td>1.000000</td>\n",
              "      <td>3.000000</td>\n",
              "      <td>38.000000</td>\n",
              "      <td>1.000000</td>\n",
              "      <td>0.000000</td>\n",
              "      <td>31.000000</td>\n",
              "    </tr>\n",
              "    <tr>\n",
              "      <th>max</th>\n",
              "      <td>891.000000</td>\n",
              "      <td>1.000000</td>\n",
              "      <td>3.000000</td>\n",
              "      <td>80.000000</td>\n",
              "      <td>8.000000</td>\n",
              "      <td>6.000000</td>\n",
              "      <td>512.329200</td>\n",
              "    </tr>\n",
              "  </tbody>\n",
              "</table>\n",
              "</div>"
            ],
            "text/plain": [
              "       PassengerId    Survived      Pclass         Age       SibSp  \\\n",
              "count   891.000000  891.000000  891.000000  714.000000  891.000000   \n",
              "mean    446.000000    0.383838    2.308642   29.699118    0.523008   \n",
              "std     257.353842    0.486592    0.836071   14.526497    1.102743   \n",
              "min       1.000000    0.000000    1.000000    0.420000    0.000000   \n",
              "25%     223.500000    0.000000    2.000000   20.125000    0.000000   \n",
              "50%     446.000000    0.000000    3.000000   28.000000    0.000000   \n",
              "75%     668.500000    1.000000    3.000000   38.000000    1.000000   \n",
              "max     891.000000    1.000000    3.000000   80.000000    8.000000   \n",
              "\n",
              "            Parch        Fare  \n",
              "count  891.000000  891.000000  \n",
              "mean     0.381594   32.204208  \n",
              "std      0.806057   49.693429  \n",
              "min      0.000000    0.000000  \n",
              "25%      0.000000    7.910400  \n",
              "50%      0.000000   14.454200  \n",
              "75%      0.000000   31.000000  \n",
              "max      6.000000  512.329200  "
            ]
          },
          "metadata": {
            "tags": []
          },
          "execution_count": 11
        }
      ]
    },
    {
      "metadata": {
        "id": "QCLMgV5z8RLd",
        "colab_type": "text"
      },
      "cell_type": "markdown",
      "source": [
        "**Exercice**: Quelle le nombre d'individus dans la base? Qu'elle est l'age moyen des passagers?  Quel est l'age median? "
      ]
    },
    {
      "metadata": {
        "id": "gbJ_stmo85_H",
        "colab_type": "code",
        "outputId": "cf46008d-e23b-45d2-e24f-ab01f680a4b2",
        "colab": {
          "base_uri": "https://localhost:8080/",
          "height": 68
        }
      },
      "cell_type": "code",
      "source": [
        "# Ecrive votre réponse ici\n",
        "\n",
        "nombreIndividu= train.loc[:,\"PassengerId\"].count()\n",
        "print(nombreIndividu)\n",
        "\n",
        "ageMoyen=train.loc[:,\"Age\"].mean()\n",
        "print(ageMoyen)\n",
        "\n",
        "ageMedian=train[\"Age\"].median()\n",
        "print(ageMedian)\n"
      ],
      "execution_count": 25,
      "outputs": [
        {
          "output_type": "stream",
          "text": [
            "891\n",
            "29.69911764705882\n",
            "28.0\n"
          ],
          "name": "stdout"
        }
      ]
    },
    {
      "metadata": {
        "id": "OgOmH5OZ-zgh",
        "colab_type": "text"
      },
      "cell_type": "markdown",
      "source": [
        " <h3 align=\"left\">  <font color=\"blue\"> Question N°4 </font>   </h3> \n",
        "<br>\n",
        "\n",
        "La méthode groupby permet de créer des indicateurs groupés suivant des modalités d'une variable catégorielle.\n",
        "\n",
        "**Example: ** Ici nous affichons les ages moyens suivant la variable **PClass**. On voit par exemple que les personnes qui étaient dans la classe 1 avait une moyenne d'age de 37, celles de la classe 2 une moyenne d'age de 29 et celle de la classe 3 une moyenne d'age de 25"
      ]
    },
    {
      "metadata": {
        "id": "znHPxxFBAF4A",
        "colab_type": "code",
        "outputId": "dc8970b1-3822-4adf-ef0c-cf74edd792e4",
        "colab": {
          "base_uri": "https://localhost:8080/",
          "height": 102
        }
      },
      "cell_type": "code",
      "source": [
        "test.groupby([\"Pclass\"])[\"Age\"].mean()"
      ],
      "execution_count": 26,
      "outputs": [
        {
          "output_type": "execute_result",
          "data": {
            "text/plain": [
              "Pclass\n",
              "1    37.339508\n",
              "2    29.393529\n",
              "3    25.391784\n",
              "Name: Age, dtype: float64"
            ]
          },
          "metadata": {
            "tags": []
          },
          "execution_count": 26
        }
      ]
    },
    {
      "metadata": {
        "id": "rZMKKQU-Ah3W",
        "colab_type": "text"
      },
      "cell_type": "markdown",
      "source": [
        "**Exercice:** Afficher la moyenne d'age par sexe (la variable **Sex**)"
      ]
    },
    {
      "metadata": {
        "id": "htt6Jhc4AtRF",
        "colab_type": "code",
        "colab": {
          "base_uri": "https://localhost:8080/",
          "height": 85
        },
        "outputId": "1e1aa874-ce27-4927-e9f8-caf96add1c8b"
      },
      "cell_type": "code",
      "source": [
        "train.groupby([\"Sex\"])[\"Age\"].mean()"
      ],
      "execution_count": 42,
      "outputs": [
        {
          "output_type": "execute_result",
          "data": {
            "text/plain": [
              "Sex\n",
              "female    27.915709\n",
              "male      30.726645\n",
              "Name: Age, dtype: float64"
            ]
          },
          "metadata": {
            "tags": []
          },
          "execution_count": 42
        }
      ]
    },
    {
      "metadata": {
        "id": "an7CpXcGAuC9",
        "colab_type": "text"
      },
      "cell_type": "markdown",
      "source": [
        "**Exercice:** Afficher la nombre de personne ayant survecu (variable **Survived**) par sex. utiliser la méthode **count**"
      ]
    },
    {
      "metadata": {
        "id": "r0gRYVu2BE3k",
        "colab_type": "code",
        "colab": {}
      },
      "cell_type": "code",
      "source": [
        ""
      ],
      "execution_count": 0,
      "outputs": []
    },
    {
      "metadata": {
        "id": "P5SCxlJRBNrN",
        "colab_type": "text"
      },
      "cell_type": "markdown",
      "source": [
        " <h3 align=\"left\">  <font color=\"blue\"> Question N°5 </font>   </h3> \n",
        "<br>\n",
        "\n",
        "Cette étape consiste à selectionner des lignes suivant une condition. \n",
        "\n",
        "\n",
        "**Exemple**: Ici nous selectionons juste les personnes qui ont une moyenne d'age supérieure à 30. Nous utilisons la méthode **head** pour limiter le nombre de lignes affichées à 5."
      ]
    },
    {
      "metadata": {
        "id": "NKcAnlKQBGT0",
        "colab_type": "code",
        "outputId": "9f178be6-e970-40af-9181-1f722affb541",
        "colab": {
          "base_uri": "https://localhost:8080/",
          "height": 195
        }
      },
      "cell_type": "code",
      "source": [
        "test[test[\"Age\"]>30].head(5)"
      ],
      "execution_count": 0,
      "outputs": [
        {
          "output_type": "execute_result",
          "data": {
            "text/html": [
              "<div>\n",
              "<style scoped>\n",
              "    .dataframe tbody tr th:only-of-type {\n",
              "        vertical-align: middle;\n",
              "    }\n",
              "\n",
              "    .dataframe tbody tr th {\n",
              "        vertical-align: top;\n",
              "    }\n",
              "\n",
              "    .dataframe thead th {\n",
              "        text-align: right;\n",
              "    }\n",
              "</style>\n",
              "<table border=\"1\" class=\"dataframe\">\n",
              "  <thead>\n",
              "    <tr style=\"text-align: right;\">\n",
              "      <th></th>\n",
              "      <th>PassengerId</th>\n",
              "      <th>Survived</th>\n",
              "      <th>Pclass</th>\n",
              "      <th>Name</th>\n",
              "      <th>Sex</th>\n",
              "      <th>Age</th>\n",
              "      <th>SibSp</th>\n",
              "      <th>Parch</th>\n",
              "      <th>Ticket</th>\n",
              "      <th>Fare</th>\n",
              "      <th>Cabin</th>\n",
              "      <th>Embarked</th>\n",
              "    </tr>\n",
              "  </thead>\n",
              "  <tbody>\n",
              "    <tr>\n",
              "      <th>0</th>\n",
              "      <td>626</td>\n",
              "      <td>0</td>\n",
              "      <td>1</td>\n",
              "      <td>Sutton, Mr. Frederick</td>\n",
              "      <td>male</td>\n",
              "      <td>61.0</td>\n",
              "      <td>0</td>\n",
              "      <td>0</td>\n",
              "      <td>36963</td>\n",
              "      <td>32.3208</td>\n",
              "      <td>D50</td>\n",
              "      <td>S</td>\n",
              "    </tr>\n",
              "    <tr>\n",
              "      <th>3</th>\n",
              "      <td>433</td>\n",
              "      <td>1</td>\n",
              "      <td>2</td>\n",
              "      <td>Louch, Mrs. Charles Alexander (Alice Adelaide ...</td>\n",
              "      <td>female</td>\n",
              "      <td>42.0</td>\n",
              "      <td>1</td>\n",
              "      <td>0</td>\n",
              "      <td>SC/AH 3085</td>\n",
              "      <td>26.0000</td>\n",
              "      <td>NaN</td>\n",
              "      <td>S</td>\n",
              "    </tr>\n",
              "    <tr>\n",
              "      <th>4</th>\n",
              "      <td>679</td>\n",
              "      <td>0</td>\n",
              "      <td>3</td>\n",
              "      <td>Goodwin, Mrs. Frederick (Augusta Tyler)</td>\n",
              "      <td>female</td>\n",
              "      <td>43.0</td>\n",
              "      <td>1</td>\n",
              "      <td>6</td>\n",
              "      <td>CA 2144</td>\n",
              "      <td>46.9000</td>\n",
              "      <td>NaN</td>\n",
              "      <td>S</td>\n",
              "    </tr>\n",
              "    <tr>\n",
              "      <th>5</th>\n",
              "      <td>673</td>\n",
              "      <td>0</td>\n",
              "      <td>2</td>\n",
              "      <td>Mitchell, Mr. Henry Michael</td>\n",
              "      <td>male</td>\n",
              "      <td>70.0</td>\n",
              "      <td>0</td>\n",
              "      <td>0</td>\n",
              "      <td>C.A. 24580</td>\n",
              "      <td>10.5000</td>\n",
              "      <td>NaN</td>\n",
              "      <td>S</td>\n",
              "    </tr>\n",
              "    <tr>\n",
              "      <th>9</th>\n",
              "      <td>151</td>\n",
              "      <td>0</td>\n",
              "      <td>2</td>\n",
              "      <td>Bateman, Rev. Robert James</td>\n",
              "      <td>male</td>\n",
              "      <td>51.0</td>\n",
              "      <td>0</td>\n",
              "      <td>0</td>\n",
              "      <td>S.O.P. 1166</td>\n",
              "      <td>12.5250</td>\n",
              "      <td>NaN</td>\n",
              "      <td>S</td>\n",
              "    </tr>\n",
              "  </tbody>\n",
              "</table>\n",
              "</div>"
            ],
            "text/plain": [
              "   PassengerId  Survived  Pclass  \\\n",
              "0          626         0       1   \n",
              "3          433         1       2   \n",
              "4          679         0       3   \n",
              "5          673         0       2   \n",
              "9          151         0       2   \n",
              "\n",
              "                                                Name     Sex   Age  SibSp  \\\n",
              "0                              Sutton, Mr. Frederick    male  61.0      0   \n",
              "3  Louch, Mrs. Charles Alexander (Alice Adelaide ...  female  42.0      1   \n",
              "4            Goodwin, Mrs. Frederick (Augusta Tyler)  female  43.0      1   \n",
              "5                        Mitchell, Mr. Henry Michael    male  70.0      0   \n",
              "9                         Bateman, Rev. Robert James    male  51.0      0   \n",
              "\n",
              "   Parch       Ticket     Fare Cabin Embarked  \n",
              "0      0        36963  32.3208   D50        S  \n",
              "3      0   SC/AH 3085  26.0000   NaN        S  \n",
              "4      6      CA 2144  46.9000   NaN        S  \n",
              "5      0   C.A. 24580  10.5000   NaN        S  \n",
              "9      0  S.O.P. 1166  12.5250   NaN        S  "
            ]
          },
          "metadata": {
            "tags": []
          },
          "execution_count": 18
        }
      ]
    },
    {
      "metadata": {
        "id": "wdciFFYyB8-6",
        "colab_type": "text"
      },
      "cell_type": "markdown",
      "source": [
        "**Exercice:** Selectionnez les lignes qui concernent qui convercent uniquement des femmes (variable **Sex**). Limiter le nombre de lignes afficher à **10**"
      ]
    },
    {
      "metadata": {
        "id": "xbHbBY1fBGeS",
        "colab_type": "code",
        "colab": {
          "base_uri": "https://localhost:8080/",
          "height": 359
        },
        "outputId": "b26cabe8-3656-4f3c-f8c8-caf5628bd8f3"
      },
      "cell_type": "code",
      "source": [
        "train[train[\"Sex\"] == \"female\"].head(10)"
      ],
      "execution_count": 44,
      "outputs": [
        {
          "output_type": "execute_result",
          "data": {
            "text/html": [
              "<div>\n",
              "<style scoped>\n",
              "    .dataframe tbody tr th:only-of-type {\n",
              "        vertical-align: middle;\n",
              "    }\n",
              "\n",
              "    .dataframe tbody tr th {\n",
              "        vertical-align: top;\n",
              "    }\n",
              "\n",
              "    .dataframe thead th {\n",
              "        text-align: right;\n",
              "    }\n",
              "</style>\n",
              "<table border=\"1\" class=\"dataframe\">\n",
              "  <thead>\n",
              "    <tr style=\"text-align: right;\">\n",
              "      <th></th>\n",
              "      <th>PassengerId</th>\n",
              "      <th>Survived</th>\n",
              "      <th>Pclass</th>\n",
              "      <th>Name</th>\n",
              "      <th>Sex</th>\n",
              "      <th>Age</th>\n",
              "      <th>SibSp</th>\n",
              "      <th>Parch</th>\n",
              "      <th>Ticket</th>\n",
              "      <th>Fare</th>\n",
              "      <th>Cabin</th>\n",
              "      <th>Embarked</th>\n",
              "    </tr>\n",
              "  </thead>\n",
              "  <tbody>\n",
              "    <tr>\n",
              "      <th>1</th>\n",
              "      <td>2</td>\n",
              "      <td>1</td>\n",
              "      <td>1</td>\n",
              "      <td>Cumings, Mrs. John Bradley (Florence Briggs Th...</td>\n",
              "      <td>female</td>\n",
              "      <td>38.0</td>\n",
              "      <td>1</td>\n",
              "      <td>0</td>\n",
              "      <td>PC 17599</td>\n",
              "      <td>71.2833</td>\n",
              "      <td>C85</td>\n",
              "      <td>C</td>\n",
              "    </tr>\n",
              "    <tr>\n",
              "      <th>2</th>\n",
              "      <td>3</td>\n",
              "      <td>1</td>\n",
              "      <td>3</td>\n",
              "      <td>Heikkinen, Miss. Laina</td>\n",
              "      <td>female</td>\n",
              "      <td>26.0</td>\n",
              "      <td>0</td>\n",
              "      <td>0</td>\n",
              "      <td>STON/O2. 3101282</td>\n",
              "      <td>7.9250</td>\n",
              "      <td>NaN</td>\n",
              "      <td>S</td>\n",
              "    </tr>\n",
              "    <tr>\n",
              "      <th>3</th>\n",
              "      <td>4</td>\n",
              "      <td>1</td>\n",
              "      <td>1</td>\n",
              "      <td>Futrelle, Mrs. Jacques Heath (Lily May Peel)</td>\n",
              "      <td>female</td>\n",
              "      <td>35.0</td>\n",
              "      <td>1</td>\n",
              "      <td>0</td>\n",
              "      <td>113803</td>\n",
              "      <td>53.1000</td>\n",
              "      <td>C123</td>\n",
              "      <td>S</td>\n",
              "    </tr>\n",
              "    <tr>\n",
              "      <th>8</th>\n",
              "      <td>9</td>\n",
              "      <td>1</td>\n",
              "      <td>3</td>\n",
              "      <td>Johnson, Mrs. Oscar W (Elisabeth Vilhelmina Berg)</td>\n",
              "      <td>female</td>\n",
              "      <td>27.0</td>\n",
              "      <td>0</td>\n",
              "      <td>2</td>\n",
              "      <td>347742</td>\n",
              "      <td>11.1333</td>\n",
              "      <td>NaN</td>\n",
              "      <td>S</td>\n",
              "    </tr>\n",
              "    <tr>\n",
              "      <th>9</th>\n",
              "      <td>10</td>\n",
              "      <td>1</td>\n",
              "      <td>2</td>\n",
              "      <td>Nasser, Mrs. Nicholas (Adele Achem)</td>\n",
              "      <td>female</td>\n",
              "      <td>14.0</td>\n",
              "      <td>1</td>\n",
              "      <td>0</td>\n",
              "      <td>237736</td>\n",
              "      <td>30.0708</td>\n",
              "      <td>NaN</td>\n",
              "      <td>C</td>\n",
              "    </tr>\n",
              "    <tr>\n",
              "      <th>10</th>\n",
              "      <td>11</td>\n",
              "      <td>1</td>\n",
              "      <td>3</td>\n",
              "      <td>Sandstrom, Miss. Marguerite Rut</td>\n",
              "      <td>female</td>\n",
              "      <td>4.0</td>\n",
              "      <td>1</td>\n",
              "      <td>1</td>\n",
              "      <td>PP 9549</td>\n",
              "      <td>16.7000</td>\n",
              "      <td>G6</td>\n",
              "      <td>S</td>\n",
              "    </tr>\n",
              "    <tr>\n",
              "      <th>11</th>\n",
              "      <td>12</td>\n",
              "      <td>1</td>\n",
              "      <td>1</td>\n",
              "      <td>Bonnell, Miss. Elizabeth</td>\n",
              "      <td>female</td>\n",
              "      <td>58.0</td>\n",
              "      <td>0</td>\n",
              "      <td>0</td>\n",
              "      <td>113783</td>\n",
              "      <td>26.5500</td>\n",
              "      <td>C103</td>\n",
              "      <td>S</td>\n",
              "    </tr>\n",
              "    <tr>\n",
              "      <th>14</th>\n",
              "      <td>15</td>\n",
              "      <td>0</td>\n",
              "      <td>3</td>\n",
              "      <td>Vestrom, Miss. Hulda Amanda Adolfina</td>\n",
              "      <td>female</td>\n",
              "      <td>14.0</td>\n",
              "      <td>0</td>\n",
              "      <td>0</td>\n",
              "      <td>350406</td>\n",
              "      <td>7.8542</td>\n",
              "      <td>NaN</td>\n",
              "      <td>S</td>\n",
              "    </tr>\n",
              "    <tr>\n",
              "      <th>15</th>\n",
              "      <td>16</td>\n",
              "      <td>1</td>\n",
              "      <td>2</td>\n",
              "      <td>Hewlett, Mrs. (Mary D Kingcome)</td>\n",
              "      <td>female</td>\n",
              "      <td>55.0</td>\n",
              "      <td>0</td>\n",
              "      <td>0</td>\n",
              "      <td>248706</td>\n",
              "      <td>16.0000</td>\n",
              "      <td>NaN</td>\n",
              "      <td>S</td>\n",
              "    </tr>\n",
              "    <tr>\n",
              "      <th>18</th>\n",
              "      <td>19</td>\n",
              "      <td>0</td>\n",
              "      <td>3</td>\n",
              "      <td>Vander Planke, Mrs. Julius (Emelia Maria Vande...</td>\n",
              "      <td>female</td>\n",
              "      <td>31.0</td>\n",
              "      <td>1</td>\n",
              "      <td>0</td>\n",
              "      <td>345763</td>\n",
              "      <td>18.0000</td>\n",
              "      <td>NaN</td>\n",
              "      <td>S</td>\n",
              "    </tr>\n",
              "  </tbody>\n",
              "</table>\n",
              "</div>"
            ],
            "text/plain": [
              "    PassengerId  Survived  Pclass  \\\n",
              "1             2         1       1   \n",
              "2             3         1       3   \n",
              "3             4         1       1   \n",
              "8             9         1       3   \n",
              "9            10         1       2   \n",
              "10           11         1       3   \n",
              "11           12         1       1   \n",
              "14           15         0       3   \n",
              "15           16         1       2   \n",
              "18           19         0       3   \n",
              "\n",
              "                                                 Name     Sex   Age  SibSp  \\\n",
              "1   Cumings, Mrs. John Bradley (Florence Briggs Th...  female  38.0      1   \n",
              "2                              Heikkinen, Miss. Laina  female  26.0      0   \n",
              "3        Futrelle, Mrs. Jacques Heath (Lily May Peel)  female  35.0      1   \n",
              "8   Johnson, Mrs. Oscar W (Elisabeth Vilhelmina Berg)  female  27.0      0   \n",
              "9                 Nasser, Mrs. Nicholas (Adele Achem)  female  14.0      1   \n",
              "10                    Sandstrom, Miss. Marguerite Rut  female   4.0      1   \n",
              "11                           Bonnell, Miss. Elizabeth  female  58.0      0   \n",
              "14               Vestrom, Miss. Hulda Amanda Adolfina  female  14.0      0   \n",
              "15                   Hewlett, Mrs. (Mary D Kingcome)   female  55.0      0   \n",
              "18  Vander Planke, Mrs. Julius (Emelia Maria Vande...  female  31.0      1   \n",
              "\n",
              "    Parch            Ticket     Fare Cabin Embarked  \n",
              "1       0          PC 17599  71.2833   C85        C  \n",
              "2       0  STON/O2. 3101282   7.9250   NaN        S  \n",
              "3       0            113803  53.1000  C123        S  \n",
              "8       2            347742  11.1333   NaN        S  \n",
              "9       0            237736  30.0708   NaN        C  \n",
              "10      1           PP 9549  16.7000    G6        S  \n",
              "11      0            113783  26.5500  C103        S  \n",
              "14      0            350406   7.8542   NaN        S  \n",
              "15      0            248706  16.0000   NaN        S  \n",
              "18      0            345763  18.0000   NaN        S  "
            ]
          },
          "metadata": {
            "tags": []
          },
          "execution_count": 44
        }
      ]
    },
    {
      "metadata": {
        "id": "NNVgtGjzCcDU",
        "colab_type": "text"
      },
      "cell_type": "markdown",
      "source": [
        "**Exercice:** Selectionnez les lignes qui concernent qui convercent uniquement des femmes (variable **Sex**) et qui ont une **moyenne d'age supérieur à 30**. Limiter le nombre de lignes afficher à **10**"
      ]
    },
    {
      "metadata": {
        "id": "YCkLn3w7BGh6",
        "colab_type": "code",
        "colab": {
          "base_uri": "https://localhost:8080/",
          "height": 359
        },
        "outputId": "9124d760-6ca7-42eb-f6da-25c0423904e0"
      },
      "cell_type": "code",
      "source": [
        "\n",
        "train[(train[\"Sex\"]=='female') & (train[\"Age\"] >30 )].head(10)"
      ],
      "execution_count": 52,
      "outputs": [
        {
          "output_type": "execute_result",
          "data": {
            "text/html": [
              "<div>\n",
              "<style scoped>\n",
              "    .dataframe tbody tr th:only-of-type {\n",
              "        vertical-align: middle;\n",
              "    }\n",
              "\n",
              "    .dataframe tbody tr th {\n",
              "        vertical-align: top;\n",
              "    }\n",
              "\n",
              "    .dataframe thead th {\n",
              "        text-align: right;\n",
              "    }\n",
              "</style>\n",
              "<table border=\"1\" class=\"dataframe\">\n",
              "  <thead>\n",
              "    <tr style=\"text-align: right;\">\n",
              "      <th></th>\n",
              "      <th>PassengerId</th>\n",
              "      <th>Survived</th>\n",
              "      <th>Pclass</th>\n",
              "      <th>Name</th>\n",
              "      <th>Sex</th>\n",
              "      <th>Age</th>\n",
              "      <th>SibSp</th>\n",
              "      <th>Parch</th>\n",
              "      <th>Ticket</th>\n",
              "      <th>Fare</th>\n",
              "      <th>Cabin</th>\n",
              "      <th>Embarked</th>\n",
              "    </tr>\n",
              "  </thead>\n",
              "  <tbody>\n",
              "    <tr>\n",
              "      <th>1</th>\n",
              "      <td>2</td>\n",
              "      <td>1</td>\n",
              "      <td>1</td>\n",
              "      <td>Cumings, Mrs. John Bradley (Florence Briggs Th...</td>\n",
              "      <td>female</td>\n",
              "      <td>38.0</td>\n",
              "      <td>1</td>\n",
              "      <td>0</td>\n",
              "      <td>PC 17599</td>\n",
              "      <td>71.2833</td>\n",
              "      <td>C85</td>\n",
              "      <td>C</td>\n",
              "    </tr>\n",
              "    <tr>\n",
              "      <th>3</th>\n",
              "      <td>4</td>\n",
              "      <td>1</td>\n",
              "      <td>1</td>\n",
              "      <td>Futrelle, Mrs. Jacques Heath (Lily May Peel)</td>\n",
              "      <td>female</td>\n",
              "      <td>35.0</td>\n",
              "      <td>1</td>\n",
              "      <td>0</td>\n",
              "      <td>113803</td>\n",
              "      <td>53.1000</td>\n",
              "      <td>C123</td>\n",
              "      <td>S</td>\n",
              "    </tr>\n",
              "    <tr>\n",
              "      <th>11</th>\n",
              "      <td>12</td>\n",
              "      <td>1</td>\n",
              "      <td>1</td>\n",
              "      <td>Bonnell, Miss. Elizabeth</td>\n",
              "      <td>female</td>\n",
              "      <td>58.0</td>\n",
              "      <td>0</td>\n",
              "      <td>0</td>\n",
              "      <td>113783</td>\n",
              "      <td>26.5500</td>\n",
              "      <td>C103</td>\n",
              "      <td>S</td>\n",
              "    </tr>\n",
              "    <tr>\n",
              "      <th>15</th>\n",
              "      <td>16</td>\n",
              "      <td>1</td>\n",
              "      <td>2</td>\n",
              "      <td>Hewlett, Mrs. (Mary D Kingcome)</td>\n",
              "      <td>female</td>\n",
              "      <td>55.0</td>\n",
              "      <td>0</td>\n",
              "      <td>0</td>\n",
              "      <td>248706</td>\n",
              "      <td>16.0000</td>\n",
              "      <td>NaN</td>\n",
              "      <td>S</td>\n",
              "    </tr>\n",
              "    <tr>\n",
              "      <th>18</th>\n",
              "      <td>19</td>\n",
              "      <td>0</td>\n",
              "      <td>3</td>\n",
              "      <td>Vander Planke, Mrs. Julius (Emelia Maria Vande...</td>\n",
              "      <td>female</td>\n",
              "      <td>31.0</td>\n",
              "      <td>1</td>\n",
              "      <td>0</td>\n",
              "      <td>345763</td>\n",
              "      <td>18.0000</td>\n",
              "      <td>NaN</td>\n",
              "      <td>S</td>\n",
              "    </tr>\n",
              "    <tr>\n",
              "      <th>25</th>\n",
              "      <td>26</td>\n",
              "      <td>1</td>\n",
              "      <td>3</td>\n",
              "      <td>Asplund, Mrs. Carl Oscar (Selma Augusta Emilia...</td>\n",
              "      <td>female</td>\n",
              "      <td>38.0</td>\n",
              "      <td>1</td>\n",
              "      <td>5</td>\n",
              "      <td>347077</td>\n",
              "      <td>31.3875</td>\n",
              "      <td>NaN</td>\n",
              "      <td>S</td>\n",
              "    </tr>\n",
              "    <tr>\n",
              "      <th>40</th>\n",
              "      <td>41</td>\n",
              "      <td>0</td>\n",
              "      <td>3</td>\n",
              "      <td>Ahlin, Mrs. Johan (Johanna Persdotter Larsson)</td>\n",
              "      <td>female</td>\n",
              "      <td>40.0</td>\n",
              "      <td>1</td>\n",
              "      <td>0</td>\n",
              "      <td>7546</td>\n",
              "      <td>9.4750</td>\n",
              "      <td>NaN</td>\n",
              "      <td>S</td>\n",
              "    </tr>\n",
              "    <tr>\n",
              "      <th>52</th>\n",
              "      <td>53</td>\n",
              "      <td>1</td>\n",
              "      <td>1</td>\n",
              "      <td>Harper, Mrs. Henry Sleeper (Myna Haxtun)</td>\n",
              "      <td>female</td>\n",
              "      <td>49.0</td>\n",
              "      <td>1</td>\n",
              "      <td>0</td>\n",
              "      <td>PC 17572</td>\n",
              "      <td>76.7292</td>\n",
              "      <td>D33</td>\n",
              "      <td>C</td>\n",
              "    </tr>\n",
              "    <tr>\n",
              "      <th>61</th>\n",
              "      <td>62</td>\n",
              "      <td>1</td>\n",
              "      <td>1</td>\n",
              "      <td>Icard, Miss. Amelie</td>\n",
              "      <td>female</td>\n",
              "      <td>38.0</td>\n",
              "      <td>0</td>\n",
              "      <td>0</td>\n",
              "      <td>113572</td>\n",
              "      <td>80.0000</td>\n",
              "      <td>B28</td>\n",
              "      <td>NaN</td>\n",
              "    </tr>\n",
              "    <tr>\n",
              "      <th>85</th>\n",
              "      <td>86</td>\n",
              "      <td>1</td>\n",
              "      <td>3</td>\n",
              "      <td>Backstrom, Mrs. Karl Alfred (Maria Mathilda Gu...</td>\n",
              "      <td>female</td>\n",
              "      <td>33.0</td>\n",
              "      <td>3</td>\n",
              "      <td>0</td>\n",
              "      <td>3101278</td>\n",
              "      <td>15.8500</td>\n",
              "      <td>NaN</td>\n",
              "      <td>S</td>\n",
              "    </tr>\n",
              "  </tbody>\n",
              "</table>\n",
              "</div>"
            ],
            "text/plain": [
              "    PassengerId  Survived  Pclass  \\\n",
              "1             2         1       1   \n",
              "3             4         1       1   \n",
              "11           12         1       1   \n",
              "15           16         1       2   \n",
              "18           19         0       3   \n",
              "25           26         1       3   \n",
              "40           41         0       3   \n",
              "52           53         1       1   \n",
              "61           62         1       1   \n",
              "85           86         1       3   \n",
              "\n",
              "                                                 Name     Sex   Age  SibSp  \\\n",
              "1   Cumings, Mrs. John Bradley (Florence Briggs Th...  female  38.0      1   \n",
              "3        Futrelle, Mrs. Jacques Heath (Lily May Peel)  female  35.0      1   \n",
              "11                           Bonnell, Miss. Elizabeth  female  58.0      0   \n",
              "15                   Hewlett, Mrs. (Mary D Kingcome)   female  55.0      0   \n",
              "18  Vander Planke, Mrs. Julius (Emelia Maria Vande...  female  31.0      1   \n",
              "25  Asplund, Mrs. Carl Oscar (Selma Augusta Emilia...  female  38.0      1   \n",
              "40     Ahlin, Mrs. Johan (Johanna Persdotter Larsson)  female  40.0      1   \n",
              "52           Harper, Mrs. Henry Sleeper (Myna Haxtun)  female  49.0      1   \n",
              "61                                Icard, Miss. Amelie  female  38.0      0   \n",
              "85  Backstrom, Mrs. Karl Alfred (Maria Mathilda Gu...  female  33.0      3   \n",
              "\n",
              "    Parch    Ticket     Fare Cabin Embarked  \n",
              "1       0  PC 17599  71.2833   C85        C  \n",
              "3       0    113803  53.1000  C123        S  \n",
              "11      0    113783  26.5500  C103        S  \n",
              "15      0    248706  16.0000   NaN        S  \n",
              "18      0    345763  18.0000   NaN        S  \n",
              "25      5    347077  31.3875   NaN        S  \n",
              "40      0      7546   9.4750   NaN        S  \n",
              "52      0  PC 17572  76.7292   D33        C  \n",
              "61      0    113572  80.0000   B28      NaN  \n",
              "85      0   3101278  15.8500   NaN        S  "
            ]
          },
          "metadata": {
            "tags": []
          },
          "execution_count": 52
        }
      ]
    },
    {
      "metadata": {
        "id": "0mw2uSqvCx_s",
        "colab_type": "text"
      },
      "cell_type": "markdown",
      "source": [
        "**Exercice**: Remplacer les ages manquantes par la moyenne des ages"
      ]
    },
    {
      "metadata": {
        "id": "uon4GKMZBGlQ",
        "colab_type": "code",
        "colab": {
          "base_uri": "https://localhost:8080/",
          "height": 306
        },
        "outputId": "d00eb6d7-542a-49e3-94e7-a6c590fe256a"
      },
      "cell_type": "code",
      "source": [
        "train.info()\n",
        "train['Age'] = train['Age'].fillna((train['Age'].mean()))\n",
        "#train['Age']"
      ],
      "execution_count": 61,
      "outputs": [
        {
          "output_type": "stream",
          "text": [
            "<class 'pandas.core.frame.DataFrame'>\n",
            "RangeIndex: 891 entries, 0 to 890\n",
            "Data columns (total 12 columns):\n",
            "PassengerId    891 non-null int64\n",
            "Survived       891 non-null int64\n",
            "Pclass         891 non-null int64\n",
            "Name           891 non-null object\n",
            "Sex            891 non-null object\n",
            "Age            891 non-null float64\n",
            "SibSp          891 non-null int64\n",
            "Parch          891 non-null int64\n",
            "Ticket         891 non-null object\n",
            "Fare           891 non-null float64\n",
            "Cabin          204 non-null object\n",
            "Embarked       889 non-null object\n",
            "dtypes: float64(2), int64(5), object(5)\n",
            "memory usage: 83.6+ KB\n"
          ],
          "name": "stdout"
        }
      ]
    },
    {
      "metadata": {
        "id": "rKwzkl-QDfZa",
        "colab_type": "text"
      },
      "cell_type": "markdown",
      "source": [
        " <h3 align=\"left\">  <font color=\"blue\"> Question N°6 </font>   </h3> \n",
        "<br>\n",
        "\n",
        "**Exercice**: Existe-t-il une correlation entre l'age et le prix du tarif du ticket (variable **fare**?)"
      ]
    },
    {
      "metadata": {
        "id": "9gis38WqBGoY",
        "colab_type": "code",
        "colab": {
          "base_uri": "https://localhost:8080/",
          "height": 51
        },
        "outputId": "d8217041-d1cb-42b7-d96b-6f9e0ecfe03d"
      },
      "cell_type": "code",
      "source": [
        "np.corrcoef(train[\"Age\"], train[\"Fare\"])"
      ],
      "execution_count": 62,
      "outputs": [
        {
          "output_type": "execute_result",
          "data": {
            "text/plain": [
              "array([[1.        , 0.09156609],\n",
              "       [0.09156609, 1.        ]])"
            ]
          },
          "metadata": {
            "tags": []
          },
          "execution_count": 62
        }
      ]
    },
    {
      "metadata": {
        "id": "RLKunqn3BGrw",
        "colab_type": "code",
        "colab": {
          "base_uri": "https://localhost:8080/",
          "height": 265
        },
        "outputId": "60c381c2-1efd-43cf-91bc-3c06b77e9bd9"
      },
      "cell_type": "code",
      "source": [
        "import matplotlib\n",
        "import matplotlib.pyplot as plt\n",
        "%matplotlib inline\n",
        "matplotlib.style.use('ggplot')\n",
        "\n",
        "plt.scatter(train[\"Age\"], train[\"Fare\"])\n",
        "plt.show()\n",
        "\n",
        "\n",
        "#A priori sur ce diagramme de dispersion, il ne semble pas que quand l'age est petit, les montants soient particulièrement petits. Il semble ne pas y avoir de corrélation entre l'age et le prix du tarif du ticket"
      ],
      "execution_count": 64,
      "outputs": [
        {
          "output_type": "display_data",
          "data": {
            "image/png": "[encoded data removed]",
            "text/plain": [
              "<Figure size 432x288 with 1 Axes>"
            ]
          },
          "metadata": {
            "tags": []
          }
        }
      ]
    },
    {
      "metadata": {
        "id": "bCuTkukRD8VV",
        "colab_type": "text"
      },
      "cell_type": "markdown",
      "source": [
        " <h3 align=\"left\">  <font color=\"blue\"> Question N°7 </font>   </h3> \n",
        "<br>\n",
        "\n",
        "**Exercice**: Existe-t-il une correlation entre l'age et le prix du tarif du ticket (variable **fare**?)"
      ]
    },
    {
      "metadata": {
        "id": "4Q8T3KjIGe5H",
        "colab_type": "code",
        "colab": {
          "base_uri": "https://localhost:8080/",
          "height": 1071
        },
        "outputId": "dce35413-3b3e-4e70-93f3-ebe584485ab3"
      },
      "cell_type": "code",
      "source": [
        "train[\"Name\"]"
      ],
      "execution_count": 68,
      "outputs": [
        {
          "output_type": "execute_result",
          "data": {
            "text/plain": [
              "0                                Braund, Mr. Owen Harris\n",
              "1      Cumings, Mrs. John Bradley (Florence Briggs Th...\n",
              "2                                 Heikkinen, Miss. Laina\n",
              "3           Futrelle, Mrs. Jacques Heath (Lily May Peel)\n",
              "4                               Allen, Mr. William Henry\n",
              "5                                       Moran, Mr. James\n",
              "6                                McCarthy, Mr. Timothy J\n",
              "7                         Palsson, Master. Gosta Leonard\n",
              "8      Johnson, Mrs. Oscar W (Elisabeth Vilhelmina Berg)\n",
              "9                    Nasser, Mrs. Nicholas (Adele Achem)\n",
              "10                       Sandstrom, Miss. Marguerite Rut\n",
              "11                              Bonnell, Miss. Elizabeth\n",
              "12                        Saundercock, Mr. William Henry\n",
              "13                           Andersson, Mr. Anders Johan\n",
              "14                  Vestrom, Miss. Hulda Amanda Adolfina\n",
              "15                      Hewlett, Mrs. (Mary D Kingcome) \n",
              "16                                  Rice, Master. Eugene\n",
              "17                          Williams, Mr. Charles Eugene\n",
              "18     Vander Planke, Mrs. Julius (Emelia Maria Vande...\n",
              "19                               Masselmani, Mrs. Fatima\n",
              "20                                  Fynney, Mr. Joseph J\n",
              "21                                 Beesley, Mr. Lawrence\n",
              "22                           McGowan, Miss. Anna \"Annie\"\n",
              "23                          Sloper, Mr. William Thompson\n",
              "24                         Palsson, Miss. Torborg Danira\n",
              "25     Asplund, Mrs. Carl Oscar (Selma Augusta Emilia...\n",
              "26                               Emir, Mr. Farred Chehab\n",
              "27                        Fortune, Mr. Charles Alexander\n",
              "28                         O'Dwyer, Miss. Ellen \"Nellie\"\n",
              "29                                   Todoroff, Mr. Lalio\n",
              "                             ...                        \n",
              "861                          Giles, Mr. Frederick Edward\n",
              "862    Swift, Mrs. Frederick Joel (Margaret Welles Ba...\n",
              "863                    Sage, Miss. Dorothy Edith \"Dolly\"\n",
              "864                               Gill, Mr. John William\n",
              "865                             Bystrom, Mrs. (Karolina)\n",
              "866                         Duran y More, Miss. Asuncion\n",
              "867                 Roebling, Mr. Washington Augustus II\n",
              "868                          van Melkebeke, Mr. Philemon\n",
              "869                      Johnson, Master. Harold Theodor\n",
              "870                                    Balkic, Mr. Cerin\n",
              "871     Beckwith, Mrs. Richard Leonard (Sallie Monypeny)\n",
              "872                             Carlsson, Mr. Frans Olof\n",
              "873                          Vander Cruyssen, Mr. Victor\n",
              "874                Abelson, Mrs. Samuel (Hannah Wizosky)\n",
              "875                     Najib, Miss. Adele Kiamie \"Jane\"\n",
              "876                        Gustafsson, Mr. Alfred Ossian\n",
              "877                                 Petroff, Mr. Nedelio\n",
              "878                                   Laleff, Mr. Kristo\n",
              "879        Potter, Mrs. Thomas Jr (Lily Alexenia Wilson)\n",
              "880         Shelley, Mrs. William (Imanita Parrish Hall)\n",
              "881                                   Markun, Mr. Johann\n",
              "882                         Dahlberg, Miss. Gerda Ulrika\n",
              "883                        Banfield, Mr. Frederick James\n",
              "884                               Sutehall, Mr. Henry Jr\n",
              "885                 Rice, Mrs. William (Margaret Norton)\n",
              "886                                Montvila, Rev. Juozas\n",
              "887                         Graham, Miss. Margaret Edith\n",
              "888             Johnston, Miss. Catherine Helen \"Carrie\"\n",
              "889                                Behr, Mr. Karl Howell\n",
              "890                                  Dooley, Mr. Patrick\n",
              "Name: Name, Length: 891, dtype: object"
            ]
          },
          "metadata": {
            "tags": []
          },
          "execution_count": 68
        }
      ]
    },
    {
      "metadata": {
        "id": "0RQBZFKLGg9Y",
        "colab_type": "text"
      },
      "cell_type": "markdown",
      "source": [
        " <h3 align=\"left\">  <font color=\"blue\"> Question N°8 </font>   </h3> \n",
        "<br>\n",
        "\n",
        "**Exercice**: Créer une nouvelle variable age normalisée ( **Soustraire la moyenne et divisé par l'écart type**)"
      ]
    },
    {
      "metadata": {
        "id": "VoSbo1a9BGu-",
        "colab_type": "code",
        "colab": {}
      },
      "cell_type": "code",
      "source": [
        "normalized_age=(train[\"Age\"]-train[\"Age\"].mean())/train[\"Age\"].std()\n",
        "#normalized_age"
      ],
      "execution_count": 0,
      "outputs": []
    },
    {
      "metadata": {
        "id": "YMYx6kpzH9hk",
        "colab_type": "text"
      },
      "cell_type": "markdown",
      "source": [
        " <h3 align=\"left\">  <font color=\"blue\"> Question N°9 </font>   </h3> \n",
        "<br>\n",
        "\n",
        "**Exercice**: Dans la variable **Name**, vous avez le title de la personne. Par exemple **Mr**, **Mrs**. Créer une nouvelle variable qui extrait chaque titre dans le nom de la personne. "
      ]
    },
    {
      "metadata": {
        "id": "s0ctPP6IIiF8",
        "colab_type": "code",
        "colab": {
          "base_uri": "https://localhost:8080/",
          "height": 1071
        },
        "outputId": "c74586aa-6467-45d7-a591-37c407896f5e"
      },
      "cell_type": "code",
      "source": [
        "train[\"title\"]=train[\"Name\"].apply(lambda x: x.split(\" \")[1][:-1])\n",
        "train[\"title\"]"
      ],
      "execution_count": 73,
      "outputs": [
        {
          "output_type": "execute_result",
          "data": {
            "text/plain": [
              "0             Mr\n",
              "1            Mrs\n",
              "2           Miss\n",
              "3            Mrs\n",
              "4             Mr\n",
              "5             Mr\n",
              "6             Mr\n",
              "7         Master\n",
              "8            Mrs\n",
              "9            Mrs\n",
              "10          Miss\n",
              "11          Miss\n",
              "12            Mr\n",
              "13            Mr\n",
              "14          Miss\n",
              "15           Mrs\n",
              "16        Master\n",
              "17            Mr\n",
              "18        Planke\n",
              "19           Mrs\n",
              "20            Mr\n",
              "21            Mr\n",
              "22          Miss\n",
              "23            Mr\n",
              "24          Miss\n",
              "25           Mrs\n",
              "26            Mr\n",
              "27            Mr\n",
              "28          Miss\n",
              "29            Mr\n",
              "         ...    \n",
              "861           Mr\n",
              "862          Mrs\n",
              "863         Miss\n",
              "864           Mr\n",
              "865          Mrs\n",
              "866             \n",
              "867           Mr\n",
              "868    Melkebeke\n",
              "869       Master\n",
              "870           Mr\n",
              "871          Mrs\n",
              "872           Mr\n",
              "873     Cruyssen\n",
              "874          Mrs\n",
              "875         Miss\n",
              "876           Mr\n",
              "877           Mr\n",
              "878           Mr\n",
              "879          Mrs\n",
              "880          Mrs\n",
              "881           Mr\n",
              "882         Miss\n",
              "883           Mr\n",
              "884           Mr\n",
              "885          Mrs\n",
              "886          Rev\n",
              "887         Miss\n",
              "888         Miss\n",
              "889           Mr\n",
              "890           Mr\n",
              "Name: title, Length: 891, dtype: object"
            ]
          },
          "metadata": {
            "tags": []
          },
          "execution_count": 73
        }
      ]
    },
    {
      "metadata": {
        "id": "hSLJ9wG5HxZg",
        "colab_type": "text"
      },
      "cell_type": "markdown",
      "source": [
        " <h3 align=\"left\">  <font color=\"blue\"> Question N°10 </font>   </h3> \n",
        "<br>\n",
        "\n",
        "**Exercice**: Un peu de machine learning. Créer un modèle simple de regression logistique. L'objectif sera de prédire si un passenger vas survivre ou pas.\n",
        "  \n",
        "  Variable à prédire: **Survived** <br>\n",
        "  Variables explicatives: **Age, Fare**"
      ]
    },
    {
      "metadata": {
        "id": "lj-ikSggKWyN",
        "colab_type": "code",
        "colab": {}
      },
      "cell_type": "code",
      "source": [
        "from sklearn.linear_model import LogisticRegression\n",
        "from sklearn.cross_validation import train_test_split\n",
        "from sklearn.metrics import classification_report\n",
        "from sklearn.metrics import confusion_matrix\n"
      ],
      "execution_count": 0,
      "outputs": []
    },
    {
      "metadata": {
        "id": "Za3JMPHiMO5X",
        "colab_type": "code",
        "colab": {
          "base_uri": "https://localhost:8080/",
          "height": 204
        },
        "outputId": "e7c5e172-dae0-47b5-a241-cf1b067c4753"
      },
      "cell_type": "code",
      "source": [
        "train.head(5)"
      ],
      "execution_count": 79,
      "outputs": [
        {
          "output_type": "execute_result",
          "data": {
            "text/html": [
              "<div>\n",
              "<style scoped>\n",
              "    .dataframe tbody tr th:only-of-type {\n",
              "        vertical-align: middle;\n",
              "    }\n",
              "\n",
              "    .dataframe tbody tr th {\n",
              "        vertical-align: top;\n",
              "    }\n",
              "\n",
              "    .dataframe thead th {\n",
              "        text-align: right;\n",
              "    }\n",
              "</style>\n",
              "<table border=\"1\" class=\"dataframe\">\n",
              "  <thead>\n",
              "    <tr style=\"text-align: right;\">\n",
              "      <th></th>\n",
              "      <th>Survived</th>\n",
              "      <th>Age</th>\n",
              "      <th>Fare</th>\n",
              "      <th>Cabin</th>\n",
              "      <th>title</th>\n",
              "    </tr>\n",
              "  </thead>\n",
              "  <tbody>\n",
              "    <tr>\n",
              "      <th>0</th>\n",
              "      <td>0</td>\n",
              "      <td>22.0</td>\n",
              "      <td>7.2500</td>\n",
              "      <td>NaN</td>\n",
              "      <td>Mr</td>\n",
              "    </tr>\n",
              "    <tr>\n",
              "      <th>1</th>\n",
              "      <td>1</td>\n",
              "      <td>38.0</td>\n",
              "      <td>71.2833</td>\n",
              "      <td>C85</td>\n",
              "      <td>Mrs</td>\n",
              "    </tr>\n",
              "    <tr>\n",
              "      <th>2</th>\n",
              "      <td>1</td>\n",
              "      <td>26.0</td>\n",
              "      <td>7.9250</td>\n",
              "      <td>NaN</td>\n",
              "      <td>Miss</td>\n",
              "    </tr>\n",
              "    <tr>\n",
              "      <th>3</th>\n",
              "      <td>1</td>\n",
              "      <td>35.0</td>\n",
              "      <td>53.1000</td>\n",
              "      <td>C123</td>\n",
              "      <td>Mrs</td>\n",
              "    </tr>\n",
              "    <tr>\n",
              "      <th>4</th>\n",
              "      <td>0</td>\n",
              "      <td>35.0</td>\n",
              "      <td>8.0500</td>\n",
              "      <td>NaN</td>\n",
              "      <td>Mr</td>\n",
              "    </tr>\n",
              "  </tbody>\n",
              "</table>\n",
              "</div>"
            ],
            "text/plain": [
              "   Survived   Age     Fare Cabin title\n",
              "0         0  22.0   7.2500   NaN    Mr\n",
              "1         1  38.0  71.2833   C85   Mrs\n",
              "2         1  26.0   7.9250   NaN  Miss\n",
              "3         1  35.0  53.1000  C123   Mrs\n",
              "4         0  35.0   8.0500   NaN    Mr"
            ]
          },
          "metadata": {
            "tags": []
          },
          "execution_count": 79
        }
      ]
    },
    {
      "metadata": {
        "id": "EfgrzMocIek2",
        "colab_type": "code",
        "outputId": "5768948e-ed64-4527-808b-bf77496b3566",
        "colab": {
          "base_uri": "https://localhost:8080/",
          "height": 589
        }
      },
      "cell_type": "code",
      "source": [
        "\n",
        "train.drop([\"PassengerId\",\"Pclass\",\"Name\",\"Sex\",\"SibSp\",\"Parch\",\"Ticket\",\"Embarked\",\"Cabin\",\"title\"],axis=1,inplace=True)\n",
        "X = train.drop(\"Survived\",axis=1)\n",
        "y = train[\"Survived\"]\n",
        "X_train, X_test, y_train, y_test = train_test_split(X, y, test_size = 0.3, random_state = 101)\n",
        "\n",
        "logmodel = LogisticRegression()\n",
        "logmodel.fit(X_train,y_train)\n",
        "#prediction\n",
        "predictions = logmodel.predict(X_test)\n",
        "#evaluation\n",
        "print(classification_report(y_test, predictions))\n",
        "confusion_matrix(y_test, predictions)"
      ],
      "execution_count": 80,
      "outputs": [
        {
          "output_type": "error",
          "ename": "ValueError",
          "evalue": "ignored",
          "traceback": [
            "\u001b[0;31m---------------------------------------------------------------------------\u001b[0m",
            "\u001b[0;31mValueError\u001b[0m                                Traceback (most recent call last)",
            "\u001b[0;32m<ipython-input-80-ae4a11daefb7>\u001b[0m in \u001b[0;36m<module>\u001b[0;34m()\u001b[0m\n\u001b[1;32m      1\u001b[0m \u001b[0;34m\u001b[0m\u001b[0m\n\u001b[0;32m----> 2\u001b[0;31m \u001b[0mtrain\u001b[0m\u001b[0;34m.\u001b[0m\u001b[0mdrop\u001b[0m\u001b[0;34m(\u001b[0m\u001b[0;34m[\u001b[0m\u001b[0;34m\"PassengerId\"\u001b[0m\u001b[0;34m,\u001b[0m\u001b[0;34m\"Pclass\"\u001b[0m\u001b[0;34m,\u001b[0m\u001b[0;34m\"Name\"\u001b[0m\u001b[0;34m,\u001b[0m\u001b[0;34m\"Sex\"\u001b[0m\u001b[0;34m,\u001b[0m\u001b[0;34m\"SibSp\"\u001b[0m\u001b[0;34m,\u001b[0m\u001b[0;34m\"Parch\"\u001b[0m\u001b[0;34m,\u001b[0m\u001b[0;34m\"Ticket\"\u001b[0m\u001b[0;34m,\u001b[0m\u001b[0;34m\"Embarked\"\u001b[0m\u001b[0;34m,\u001b[0m\u001b[0;34m\"Cabin\"\u001b[0m\u001b[0;34m,\u001b[0m\u001b[0;34m\"title\"\u001b[0m\u001b[0;34m]\u001b[0m\u001b[0;34m,\u001b[0m\u001b[0maxis\u001b[0m\u001b[0;34m=\u001b[0m\u001b[0;36m1\u001b[0m\u001b[0;34m,\u001b[0m\u001b[0minplace\u001b[0m\u001b[0;34m=\u001b[0m\u001b[0;32mTrue\u001b[0m\u001b[0;34m)\u001b[0m\u001b[0;34m\u001b[0m\u001b[0;34m\u001b[0m\u001b[0m\n\u001b[0m\u001b[1;32m      3\u001b[0m \u001b[0mX\u001b[0m \u001b[0;34m=\u001b[0m \u001b[0mtrain\u001b[0m\u001b[0;34m.\u001b[0m\u001b[0mdrop\u001b[0m\u001b[0;34m(\u001b[0m\u001b[0;34m\"Survived\"\u001b[0m\u001b[0;34m,\u001b[0m\u001b[0maxis\u001b[0m\u001b[0;34m=\u001b[0m\u001b[0;36m1\u001b[0m\u001b[0;34m)\u001b[0m\u001b[0;34m\u001b[0m\u001b[0;34m\u001b[0m\u001b[0m\n\u001b[1;32m      4\u001b[0m \u001b[0my\u001b[0m \u001b[0;34m=\u001b[0m \u001b[0mtrain\u001b[0m\u001b[0;34m[\u001b[0m\u001b[0;34m\"Survived\"\u001b[0m\u001b[0;34m]\u001b[0m\u001b[0;34m\u001b[0m\u001b[0;34m\u001b[0m\u001b[0m\n\u001b[1;32m      5\u001b[0m \u001b[0mX_train\u001b[0m\u001b[0;34m,\u001b[0m \u001b[0mX_test\u001b[0m\u001b[0;34m,\u001b[0m \u001b[0my_train\u001b[0m\u001b[0;34m,\u001b[0m \u001b[0my_test\u001b[0m \u001b[0;34m=\u001b[0m \u001b[0mtrain_test_split\u001b[0m\u001b[0;34m(\u001b[0m\u001b[0mX\u001b[0m\u001b[0;34m,\u001b[0m \u001b[0my\u001b[0m\u001b[0;34m,\u001b[0m \u001b[0mtest_size\u001b[0m \u001b[0;34m=\u001b[0m \u001b[0;36m0.3\u001b[0m\u001b[0;34m,\u001b[0m \u001b[0mrandom_state\u001b[0m \u001b[0;34m=\u001b[0m \u001b[0;36m101\u001b[0m\u001b[0;34m)\u001b[0m\u001b[0;34m\u001b[0m\u001b[0;34m\u001b[0m\u001b[0m\n",
            "\u001b[0;32m/usr/local/lib/python3.6/dist-packages/pandas/core/generic.py\u001b[0m in \u001b[0;36mdrop\u001b[0;34m(self, labels, axis, index, columns, level, inplace, errors)\u001b[0m\n\u001b[1;32m   2528\u001b[0m         \u001b[0;32mfor\u001b[0m \u001b[0maxis\u001b[0m\u001b[0;34m,\u001b[0m \u001b[0mlabels\u001b[0m \u001b[0;32min\u001b[0m \u001b[0maxes\u001b[0m\u001b[0;34m.\u001b[0m\u001b[0mitems\u001b[0m\u001b[0;34m(\u001b[0m\u001b[0;34m)\u001b[0m\u001b[0;34m:\u001b[0m\u001b[0;34m\u001b[0m\u001b[0;34m\u001b[0m\u001b[0m\n\u001b[1;32m   2529\u001b[0m             \u001b[0;32mif\u001b[0m \u001b[0mlabels\u001b[0m \u001b[0;32mis\u001b[0m \u001b[0;32mnot\u001b[0m \u001b[0;32mNone\u001b[0m\u001b[0;34m:\u001b[0m\u001b[0;34m\u001b[0m\u001b[0;34m\u001b[0m\u001b[0m\n\u001b[0;32m-> 2530\u001b[0;31m                 \u001b[0mobj\u001b[0m \u001b[0;34m=\u001b[0m \u001b[0mobj\u001b[0m\u001b[0;34m.\u001b[0m\u001b[0m_drop_axis\u001b[0m\u001b[0;34m(\u001b[0m\u001b[0mlabels\u001b[0m\u001b[0;34m,\u001b[0m \u001b[0maxis\u001b[0m\u001b[0;34m,\u001b[0m \u001b[0mlevel\u001b[0m\u001b[0;34m=\u001b[0m\u001b[0mlevel\u001b[0m\u001b[0;34m,\u001b[0m \u001b[0merrors\u001b[0m\u001b[0;34m=\u001b[0m\u001b[0merrors\u001b[0m\u001b[0;34m)\u001b[0m\u001b[0;34m\u001b[0m\u001b[0;34m\u001b[0m\u001b[0m\n\u001b[0m\u001b[1;32m   2531\u001b[0m \u001b[0;34m\u001b[0m\u001b[0m\n\u001b[1;32m   2532\u001b[0m         \u001b[0;32mif\u001b[0m \u001b[0minplace\u001b[0m\u001b[0;34m:\u001b[0m\u001b[0;34m\u001b[0m\u001b[0;34m\u001b[0m\u001b[0m\n",
            "\u001b[0;32m/usr/local/lib/python3.6/dist-packages/pandas/core/generic.py\u001b[0m in \u001b[0;36m_drop_axis\u001b[0;34m(self, labels, axis, level, errors)\u001b[0m\n\u001b[1;32m   2560\u001b[0m                 \u001b[0mnew_axis\u001b[0m \u001b[0;34m=\u001b[0m \u001b[0maxis\u001b[0m\u001b[0;34m.\u001b[0m\u001b[0mdrop\u001b[0m\u001b[0;34m(\u001b[0m\u001b[0mlabels\u001b[0m\u001b[0;34m,\u001b[0m \u001b[0mlevel\u001b[0m\u001b[0;34m=\u001b[0m\u001b[0mlevel\u001b[0m\u001b[0;34m,\u001b[0m \u001b[0merrors\u001b[0m\u001b[0;34m=\u001b[0m\u001b[0merrors\u001b[0m\u001b[0;34m)\u001b[0m\u001b[0;34m\u001b[0m\u001b[0;34m\u001b[0m\u001b[0m\n\u001b[1;32m   2561\u001b[0m             \u001b[0;32melse\u001b[0m\u001b[0;34m:\u001b[0m\u001b[0;34m\u001b[0m\u001b[0;34m\u001b[0m\u001b[0m\n\u001b[0;32m-> 2562\u001b[0;31m                 \u001b[0mnew_axis\u001b[0m \u001b[0;34m=\u001b[0m \u001b[0maxis\u001b[0m\u001b[0;34m.\u001b[0m\u001b[0mdrop\u001b[0m\u001b[0;34m(\u001b[0m\u001b[0mlabels\u001b[0m\u001b[0;34m,\u001b[0m \u001b[0merrors\u001b[0m\u001b[0;34m=\u001b[0m\u001b[0merrors\u001b[0m\u001b[0;34m)\u001b[0m\u001b[0;34m\u001b[0m\u001b[0;34m\u001b[0m\u001b[0m\n\u001b[0m\u001b[1;32m   2563\u001b[0m             \u001b[0mdropped\u001b[0m \u001b[0;34m=\u001b[0m \u001b[0mself\u001b[0m\u001b[0;34m.\u001b[0m\u001b[0mreindex\u001b[0m\u001b[0;34m(\u001b[0m\u001b[0;34m**\u001b[0m\u001b[0;34m{\u001b[0m\u001b[0maxis_name\u001b[0m\u001b[0;34m:\u001b[0m \u001b[0mnew_axis\u001b[0m\u001b[0;34m}\u001b[0m\u001b[0;34m)\u001b[0m\u001b[0;34m\u001b[0m\u001b[0;34m\u001b[0m\u001b[0m\n\u001b[1;32m   2564\u001b[0m             \u001b[0;32mtry\u001b[0m\u001b[0;34m:\u001b[0m\u001b[0;34m\u001b[0m\u001b[0;34m\u001b[0m\u001b[0m\n",
            "\u001b[0;32m/usr/local/lib/python3.6/dist-packages/pandas/core/indexes/base.py\u001b[0m in \u001b[0;36mdrop\u001b[0;34m(self, labels, errors)\u001b[0m\n\u001b[1;32m   3742\u001b[0m             \u001b[0;32mif\u001b[0m \u001b[0merrors\u001b[0m \u001b[0;34m!=\u001b[0m \u001b[0;34m'ignore'\u001b[0m\u001b[0;34m:\u001b[0m\u001b[0;34m\u001b[0m\u001b[0;34m\u001b[0m\u001b[0m\n\u001b[1;32m   3743\u001b[0m                 raise ValueError('labels %s not contained in axis' %\n\u001b[0;32m-> 3744\u001b[0;31m                                  labels[mask])\n\u001b[0m\u001b[1;32m   3745\u001b[0m             \u001b[0mindexer\u001b[0m \u001b[0;34m=\u001b[0m \u001b[0mindexer\u001b[0m\u001b[0;34m[\u001b[0m\u001b[0;34m~\u001b[0m\u001b[0mmask\u001b[0m\u001b[0;34m]\u001b[0m\u001b[0;34m\u001b[0m\u001b[0;34m\u001b[0m\u001b[0m\n\u001b[1;32m   3746\u001b[0m         \u001b[0;32mreturn\u001b[0m \u001b[0mself\u001b[0m\u001b[0;34m.\u001b[0m\u001b[0mdelete\u001b[0m\u001b[0;34m(\u001b[0m\u001b[0mindexer\u001b[0m\u001b[0;34m)\u001b[0m\u001b[0;34m\u001b[0m\u001b[0;34m\u001b[0m\u001b[0m\n",
            "\u001b[0;31mValueError\u001b[0m: labels ['PassengerId' 'Pclass' 'Name' 'Sex' 'SibSp' 'Parch' 'Ticket' 'Embarked'] not contained in axis"
          ]
        }
      ]
    },
    {
      "metadata": {
        "id": "b8LdgiZTLeds",
        "colab_type": "code",
        "colab": {}
      },
      "cell_type": "code",
      "source": [
        ""
      ],
      "execution_count": 0,
      "outputs": []
    }
  ]
}